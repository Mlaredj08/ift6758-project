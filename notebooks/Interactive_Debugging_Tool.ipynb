{
 "cells": [
  {
   "cell_type": "markdown",
   "metadata": {
    "id": "uNPuvbVPz_3b"
   },
   "source": [
    "<center><h1> IFT-6758  Data Science  </h1></center>\n",
    "<center><h2> Fall - 2021 </h2></center> \n",
    "<center><h3> Team : Kevin Traoré, Etienne Delisle, Paul Villedieu, Mohammed Laredj </h3></center> \n",
    "<center><h3> Interactive Debugging Tool </h3></center> \n",
    "\n"
   ]
  },
  {
   "cell_type": "code",
   "execution_count": 1,
   "metadata": {},
   "outputs": [],
   "source": [
    "jsonDataFolder = '../jsondata'\n",
    "datasetsFolder = '../datasets'"
   ]
  },
  {
   "cell_type": "code",
   "execution_count": 2,
   "metadata": {},
   "outputs": [
    {
     "name": "stdout",
     "output_type": "stream",
     "text": [
      "ipywidgets version : 7.6.5\n"
     ]
    }
   ],
   "source": [
    "import ipywidgets as widgets\n",
    "from IPython.display import display\n",
    "from typing import List\n",
    "import time\n",
    "import os\n",
    "import json\n",
    "from ift6758.data.question_2 import nhl_data\n",
    "from ift6758.data import seasonTypes, seasonCodes, get_season_type_label, get_season_years_label,\\\n",
    "Event, Game, Team, EventBuilder, GameBuilder, TeamBuilder, create_folder_if_not_exists, get_opponent_goal_coordinates\n",
    "\n",
    "create_folder_if_not_exists(jsonDataFolder)\n",
    "create_folder_if_not_exists(datasetsFolder)\n",
    "\n",
    "print('ipywidgets version :', widgets.__version__)"
   ]
  },
  {
   "cell_type": "code",
   "execution_count": 3,
   "metadata": {},
   "outputs": [],
   "source": [
    "from datetime import datetime\n",
    "firstRecordedSeason = 1917\n",
    "nextSeasonYear = datetime.now().year\n",
    "nbGameFrom2017 = 1271\n",
    "nbGameBefore2017 = 1230\n",
    "\n",
    "def get_seasons_list():\n",
    "    result = []\n",
    "    seasonYear = firstRecordedSeason\n",
    "    while seasonYear < nextSeasonYear:\n",
    "        result.append(str(seasonYear) + ' - ' + str(seasonYear + 1))\n",
    "        seasonYear += 1\n",
    "    \n",
    "    return result\n"
   ]
  },
  {
   "cell_type": "code",
   "execution_count": 4,
   "metadata": {},
   "outputs": [],
   "source": [
    "def get_game_details_label(game:Game):\n",
    "    return f\"\"\"{game.homeTeam.name} ( {game.homeTeam.triCode} )    vs    {game.awayTeam.name} ({game.awayTeam.triCode})\n",
    "Venue : {game.venueName}\n",
    "Started at : {game.startDatetime}\n",
    "Ended at : {game.endDatetime}\"\"\"\n",
    "\n",
    "def get_teams_details_label(game:Game):\n",
    "    return f\"\"\"                  Home    Away\n",
    "Teams :           {game.homeTeam.triCode}     {game.awayTeam.triCode}\n",
    "Goals :           {game.homeTeam.goals}       {game.awayTeam.goals}\n",
    "SoG :             {game.homeTeam.shotsOnGoal}      {game.awayTeam.shotsOnGoal}\n",
    "SO Goals :        {game.homeTeam.shootoutScores}       {game.awayTeam.shootoutScores}\n",
    "SO Attempts :     {game.homeTeam.shootoutAttempts}       {game.awayTeam.shootoutAttempts}\"\"\"\n",
    "\n",
    "def get_event_details_label(anEvent):\n",
    "    return f\"\"\"         {anEvent.description}\n",
    "         {anEvent.periodTime} P-{anEvent.periodNumber}\n",
    "         {anEvent.periodRemainingTime} remaining of {anEvent.periodType.lower()} period\n",
    "\"\"\"\n"
   ]
  },
  {
   "cell_type": "code",
   "execution_count": 5,
   "metadata": {},
   "outputs": [],
   "source": [
    "def get_game_json_file_name(gameNum):\n",
    "    return f'{jsonDataFolder}/{gameNum}.json'\n",
    "\n",
    "def load_game(gameNum):\n",
    "    with open(get_game_json_file_name(gameNum), 'r') as file:\n",
    "        game_data = file.read()\n",
    "\n",
    "    return GameBuilder().build(json.loads(game_data))\n",
    "\n",
    "\n",
    "def get_season_games(seasonStartYear, gameTypeCode):\n",
    "    result = nhl_data([int(seasonStartYear)], [gameTypeCode], jsonDataFolder, light=True)\n",
    "\n",
    "    for gameId in result:\n",
    "        if not os.path.exists(get_game_json_file_name(gameId)):\n",
    "            result.remove(gameId)\n",
    "\n",
    "    return result\n",
    "\n",
    "\n",
    "def get_season_type_code(selectedSeasonLabel):\n",
    "    return seasonCodes[selectedSeasonLabel]"
   ]
  },
  {
   "cell_type": "code",
   "execution_count": 6,
   "metadata": {},
   "outputs": [],
   "source": [
    "def axes_points_formatter(x, pos):\n",
    "    import math\n",
    "    frac, whole = math.modf(x)\n",
    "\n",
    "    if abs(frac) in [0.25, 0.75]:\n",
    "        return f'{x:.2f}'\n",
    "    \n",
    "    return f'{x:.1f}'\n",
    "\n",
    "\n",
    "def get_title(name_left_team, name_right_team):\n",
    "    title_max_length = 76\n",
    "    \n",
    "    spaces_length = (title_max_length - len(name_left_team) - len(name_right_team)) // 2\n",
    "    \n",
    "    return name_left_team + (' ' * spaces_length) + name_right_team\n",
    "\n",
    "\n",
    "def plot_event(coordinates, name_left_team, name_right_team):    \n",
    "    import matplotlib.pyplot as plt\n",
    "    import numpy as np\n",
    "    data = plt.imread('../figures/nhl_rink.png')\n",
    "\n",
    "    xaxis_min = -100\n",
    "    xaxis_max = 100\n",
    "    yaxis_min = -42.5\n",
    "    yaxis_max = 42.5\n",
    "\n",
    "    plt.imshow(data, extent=[xaxis_min, xaxis_max, yaxis_min, yaxis_max])\n",
    "\n",
    "    axes = plt.gca()\n",
    "    axes.set_facecolor('m')\n",
    "    axes.set_title(get_title(name_left_team, name_right_team))\n",
    "\n",
    "    xaxis_step = 25.0\n",
    "    yaxis_step = 21.25\n",
    "    axes.set_xticks(np.arange(xaxis_min, xaxis_max + 1, xaxis_step))\n",
    "    axes.set_yticks(np.arange(yaxis_min, yaxis_max + 1, yaxis_step))\n",
    "\n",
    "    axes.xaxis.set_major_formatter(axes_points_formatter)\n",
    "    axes.yaxis.set_major_formatter(axes_points_formatter)\n",
    "\n",
    "    feet_label = 'feet'\n",
    "    axes.set_xlabel(feet_label)\n",
    "    axes.set_ylabel(feet_label)\n",
    "\n",
    "    if len(coordinates) > 1:\n",
    "        axes.scatter([coordinates['x']], [coordinates['y']], marker='8', color='b', s=[150])\n",
    "\n",
    "    plt.show()\n"
   ]
  },
  {
   "cell_type": "code",
   "execution_count": 7,
   "metadata": {},
   "outputs": [],
   "source": [
    "def get_left_and_right_team(anEvent, homeTeamTriCode, awayTeamTriCode, periodsDict):\n",
    "    eventCoordinates = anEvent.coordinates\n",
    "    if eventCoordinates == None or len(eventCoordinates) < 2:\n",
    "        return '', ''\n",
    "\n",
    "    awayTeamGoal = get_opponent_goal_coordinates(homeTeamTriCode, homeTeamTriCode,\\\n",
    "                                                 eventCoordinates, anEvent.periodNumber, periodsDict)\n",
    "    if awayTeamGoal == None:\n",
    "        return '', ''\n",
    "    elif awayTeamGoal['x'] < 0:\n",
    "        return awayTeamTriCode, homeTeamTriCode\n",
    "    else:\n",
    "        return homeTeamTriCode, awayTeamTriCode"
   ]
  },
  {
   "cell_type": "code",
   "execution_count": 8,
   "metadata": {},
   "outputs": [
    {
     "name": "stderr",
     "output_type": "stream",
     "text": [
      "100%|█████████████████████████████████████████████████████████████████████████████████████████████████████████████████████████████████████████████████████████████████████████████████████████████████████████████████████████████████████████████████| 1271/1271 [01:03<00:00, 20.04it/s]\n"
     ]
    },
    {
     "data": {
      "application/vnd.jupyter.widget-view+json": {
       "model_id": "89a14ebf24c34d9dabf5d2f5d6b72f97",
       "version_major": 2,
       "version_minor": 0
      },
      "text/plain": [
       "HBox(children=(Dropdown(description='Season : ', index=103, layout=Layout(width='200px'), options=('1917 - 191…"
      ]
     },
     "metadata": {},
     "output_type": "display_data"
    },
    {
     "data": {
      "application/vnd.jupyter.widget-view+json": {
       "model_id": "bcdad091d20642ff9f2e18f02ecf84d9",
       "version_major": 2,
       "version_minor": 0
      },
      "text/plain": [
       "IntSlider(value=0, max=867)"
      ]
     },
     "metadata": {},
     "output_type": "display_data"
    },
    {
     "data": {
      "application/vnd.jupyter.widget-view+json": {
       "model_id": "f48eafbee786406c9aad76236a092b7b",
       "version_major": 2,
       "version_minor": 0
      },
      "text/plain": [
       "Output()"
      ]
     },
     "metadata": {},
     "output_type": "display_data"
    },
    {
     "data": {
      "application/vnd.jupyter.widget-view+json": {
       "model_id": "ab33b8c158fa4e22a3737d3252955632",
       "version_major": 2,
       "version_minor": 0
      },
      "text/plain": [
       "Output(layout=Layout(margin='0 0 0 150px'))"
      ]
     },
     "metadata": {},
     "output_type": "display_data"
    },
    {
     "data": {
      "application/vnd.jupyter.widget-view+json": {
       "model_id": "595826cac9994ec9895e3e36de50c61e",
       "version_major": 2,
       "version_minor": 0
      },
      "text/plain": [
       "HBox(children=(Play(value=0, description='Play all games', interval=3000, max=867), IntSlider(value=0, max=291…"
      ]
     },
     "metadata": {},
     "output_type": "display_data"
    },
    {
     "data": {
      "application/vnd.jupyter.widget-view+json": {
       "model_id": "72750805dda34d3ab7945b3dd865e884",
       "version_major": 2,
       "version_minor": 0
      },
      "text/plain": [
       "Output(layout=Layout(margin='0 0 0 150px'))"
      ]
     },
     "metadata": {},
     "output_type": "display_data"
    },
    {
     "data": {
      "application/vnd.jupyter.widget-view+json": {
       "model_id": "96a142dd122e432b8882f10e52ceec93",
       "version_major": 2,
       "version_minor": 0
      },
      "text/plain": [
       "Output()"
      ]
     },
     "metadata": {},
     "output_type": "display_data"
    }
   ],
   "source": [
    "seasonsList = get_seasons_list()\n",
    "seasonsMaxIndex = len(seasonsList) - 1\n",
    "seasonTypesList = list(seasonTypes.values())\n",
    "seasonsDropdownDefaultValue = seasonsList[seasonsMaxIndex]\n",
    "seasonTypeRadioButtonsDefaultValue = seasonTypesList[0]\n",
    "\n",
    "playInterval = 3000\n",
    "\n",
    "gamesList = get_season_games(seasonsDropdownDefaultValue[:4],\\\n",
    "                             get_season_type_code(seasonTypeRadioButtonsDefaultValue))\n",
    "gamesMaxIndex = len(gamesList) - 1\n",
    "currentGameIndex = 0\n",
    "currentGame = load_game(gamesList[currentGameIndex])\n",
    "\n",
    "eventsList = currentGame.events\n",
    "eventsMaxIndex = len(eventsList) - 1\n",
    "currentEventIndex = 0\n",
    "currentEvent = eventsList[currentEventIndex]\n",
    "\n",
    "seasonsDropdown = widgets.Dropdown(\n",
    "    options=seasonsList,\n",
    "    value=seasonsDropdownDefaultValue,\n",
    "    layout={'width': '200px'},\n",
    "    description='Season : ',\n",
    "    disabled=False,\n",
    ")\n",
    "\n",
    "seasonTypeRadioButtons = widgets.RadioButtons(\n",
    "    options=seasonTypesList,\n",
    "    value=seasonTypeRadioButtonsDefaultValue,\n",
    "    description='Type :',\n",
    "    disabled=False\n",
    ")\n",
    "\n",
    "seasonSelectionBox = widgets.HBox(\n",
    "    [\n",
    "        seasonsDropdown,\n",
    "        seasonTypeRadioButtons\n",
    "    ]\n",
    ")\n",
    "\n",
    "teamsDetailsLayout = widgets.Layout()\n",
    "teamsDetailsLayout.margin = '0 0 0 150px'\n",
    "\n",
    "gameDetailsOutput = widgets.Output()\n",
    "teamsDetailsOutput = widgets.Output(layout=teamsDetailsLayout)\n",
    "eventsDetailsOutput = widgets.Output(layout=teamsDetailsLayout)\n",
    "outputToDelete = widgets.Output()\n",
    "\n",
    "gamesSlider = widgets.IntSlider(max=gamesMaxIndex)\n",
    "eventsPlayer = widgets.Play(\n",
    "    value=currentGameIndex,\n",
    "    min=0,\n",
    "    max=gamesMaxIndex,\n",
    "    step=1,\n",
    "    interval=playInterval,\n",
    "    description=\"Play all games\",\n",
    "    disabled=False\n",
    ")\n",
    "eventsSlider = widgets.IntSlider(max=eventsMaxIndex)\n",
    "eventsPlayerBox = widgets.HBox(\n",
    "    [\n",
    "        eventsPlayer,\n",
    "        eventsSlider\n",
    "    ],\n",
    "    layout=teamsDetailsLayout\n",
    ")\n",
    "\n",
    "def update_game_details(aGame):\n",
    "    global gameDetailsOutput, teamsDetailsOutput\n",
    "    \n",
    "    with gameDetailsOutput:\n",
    "        gameDetailsOutput.clear_output()\n",
    "        print(get_game_details_label(aGame))\n",
    "    \n",
    "    with teamsDetailsOutput:\n",
    "        teamsDetailsOutput.clear_output()\n",
    "        print(get_teams_details_label(aGame))\n",
    "\n",
    "def on_game_change(newGameInfo):\n",
    "    global currentGameIndex, gamesList, currentGame, eventsList, eventsMaxIndex,\\\n",
    "            currentEventIndex, eventsSlider, currentEvent\n",
    "    \n",
    "    currentGameIndex = newGameInfo['new']\n",
    "    currentGame = load_game(gamesList[currentGameIndex])\n",
    "    update_game_details(currentGame)\n",
    "    eventsList = currentGame.events\n",
    "    eventsMaxIndex = len(eventsList) - 1\n",
    "    currentEventIndex = 0\n",
    "    eventsSlider.value = currentEventIndex\n",
    "    currentEvent = eventsList[currentEventIndex]\n",
    "    update_event_details(currentEvent)\n",
    "\n",
    "def update_event_details(anEvent):\n",
    "    global eventsDetailsOutput, currentGame\n",
    "    \n",
    "    with eventsDetailsOutput:\n",
    "        eventsDetailsOutput.clear_output()\n",
    "        print(get_event_details_label(anEvent))\n",
    "        leftTeam, rightTeam = get_left_and_right_team(anEvent, currentGame.homeTeam.triCode,\\\n",
    "                                                      currentGame.awayTeam.triCode, currentGame.periods)\n",
    "        plot_event(anEvent.coordinates, leftTeam, rightTeam)\n",
    "\n",
    "def on_event_change(newEventInfo):\n",
    "    global currentEventIndex, currentEvent, gamesSlider, eventsList, eventsMaxIndex,\\\n",
    "            gamesSlider, currentGameIndex, gamesMaxIndex, outputToDelete\n",
    "    \n",
    "    newEventIndex = newEventInfo['new']\n",
    "    currentEventIndex = newEventIndex\n",
    "    currentEvent = eventsList[currentEventIndex]\n",
    "    update_event_details(currentEvent)\n",
    "\n",
    "def on_season_change(change):\n",
    "    global gamesList, seasonsDropdown, seasonTypeRadioButtons, gamesMaxIndex, gamesSlider\n",
    "    \n",
    "    print(seasonsDropdown.value)\n",
    "    print(seasonTypeRadioButtons.value)\n",
    "    gamesList = get_season_games(seasonsDropdown.value[:4],\\\n",
    "                             get_season_type_code(seasonTypeRadioButtons.value))\n",
    "    gamesMaxIndex = len(gamesList) - 1\n",
    "    gamesSlider.value = 0\n",
    "    on_game_change({'new' : 0})\n",
    "\n",
    "gamesSlider.observe(on_game_change, names='value')\n",
    "widgets.jslink((eventsPlayer, 'value'), (eventsSlider, 'value'))\n",
    "eventsSlider.observe(on_event_change, names='value')\n",
    "seasonsDropdown.observe(on_season_change, names='value')\n",
    "seasonTypeRadioButtons.observe(on_season_change, names='value')\n",
    "\n",
    "gamesSlider.value=currentGameIndex\n",
    "eventsSlider.value=currentEventIndex\n",
    "\n",
    "display(seasonSelectionBox, gamesSlider, gameDetailsOutput,\n",
    "        teamsDetailsOutput, eventsPlayerBox, eventsDetailsOutput, outputToDelete)\n",
    "\n",
    "update_game_details(currentGame)\n",
    "update_event_details(currentEvent)\n"
   ]
  }
 ],
 "metadata": {
  "colab": {
   "name": "DataScience-Lab-4-[Plotly].ipynb",
   "provenance": []
  },
  "interpreter": {
   "hash": "916dbcbb3f70747c44a77c7bcd40155683ae19c65e1c03b4aa3499c5328201f1"
  },
  "kernelspec": {
   "display_name": "Python 3 (ipykernel)",
   "language": "python",
   "name": "python3"
  },
  "language_info": {
   "codemirror_mode": {
    "name": "ipython",
    "version": 3
   },
   "file_extension": ".py",
   "mimetype": "text/x-python",
   "name": "python",
   "nbconvert_exporter": "python",
   "pygments_lexer": "ipython3",
   "version": "3.9.7"
  },
  "widgets": {
   "application/vnd.jupyter.widget-state+json": {
    "0202cb24b473492f8530e014d2df30fd": {
     "model_module": "@jupyter-widgets/controls",
     "model_module_version": "1.5.0",
     "model_name": "SliderStyleModel",
     "state": {
      "_model_module": "@jupyter-widgets/controls",
      "_model_module_version": "1.5.0",
      "_model_name": "SliderStyleModel",
      "_view_count": null,
      "_view_module": "@jupyter-widgets/base",
      "_view_module_version": "1.2.0",
      "_view_name": "StyleView",
      "description_width": "",
      "handle_color": null
     }
    },
    "05d59a1404a44a42881d73d2c7ca7a76": {
     "model_module": "@jupyter-widgets/controls",
     "model_module_version": "1.5.0",
     "model_name": "SliderStyleModel",
     "state": {
      "_model_module": "@jupyter-widgets/controls",
      "_model_module_version": "1.5.0",
      "_model_name": "SliderStyleModel",
      "_view_count": null,
      "_view_module": "@jupyter-widgets/base",
      "_view_module_version": "1.2.0",
      "_view_name": "StyleView",
      "description_width": "",
      "handle_color": null
     }
    },
    "12b69f24e8fb46b8a55998ed2707ad27": {
     "model_module": "@jupyter-widgets/output",
     "model_module_version": "1.0.0",
     "model_name": "OutputModel",
     "state": {
      "_dom_classes": [],
      "_model_module": "@jupyter-widgets/output",
      "_model_module_version": "1.0.0",
      "_model_name": "OutputModel",
      "_view_count": null,
      "_view_module": "@jupyter-widgets/output",
      "_view_module_version": "1.0.0",
      "_view_name": "OutputView",
      "layout": "IPY_MODEL_553d0061cc3c4a4c9c94d5888ba7d897",
      "msg_id": "",
      "outputs": [
       {
        "data": {
         "image/png": "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\n",
         "text/plain": "<Figure size 432x288 with 1 Axes>"
        },
        "metadata": {
         "needs_background": "light"
        },
        "output_type": "display_data"
       }
      ]
     }
    },
    "15cb1f3fa2314379a5f604b213f58461": {
     "model_module": "@jupyter-widgets/controls",
     "model_module_version": "1.5.0",
     "model_name": "HBoxModel",
     "state": {
      "_dom_classes": [],
      "_model_module": "@jupyter-widgets/controls",
      "_model_module_version": "1.5.0",
      "_model_name": "HBoxModel",
      "_view_count": null,
      "_view_module": "@jupyter-widgets/controls",
      "_view_module_version": "1.5.0",
      "_view_name": "HBoxView",
      "box_style": "",
      "children": [
       "IPY_MODEL_7f02819ded964d55ac989bd9f13190ba",
       "IPY_MODEL_790004055fd2422d97c6a76ed9bd84f5"
      ],
      "layout": "IPY_MODEL_e633c1d9c97d47dfac2423fd60696a39"
     }
    },
    "182499d24f2d45dcb6bf7104da1c3292": {
     "model_module": "@jupyter-widgets/base",
     "model_module_version": "1.2.0",
     "model_name": "LayoutModel",
     "state": {
      "_model_module": "@jupyter-widgets/base",
      "_model_module_version": "1.2.0",
      "_model_name": "LayoutModel",
      "_view_count": null,
      "_view_module": "@jupyter-widgets/base",
      "_view_module_version": "1.2.0",
      "_view_name": "LayoutView",
      "align_content": null,
      "align_items": null,
      "align_self": null,
      "border": null,
      "bottom": null,
      "display": null,
      "flex": null,
      "flex_flow": null,
      "grid_area": null,
      "grid_auto_columns": null,
      "grid_auto_flow": null,
      "grid_auto_rows": null,
      "grid_column": null,
      "grid_gap": null,
      "grid_row": null,
      "grid_template_areas": null,
      "grid_template_columns": null,
      "grid_template_rows": null,
      "height": null,
      "justify_content": null,
      "justify_items": null,
      "left": null,
      "margin": null,
      "max_height": null,
      "max_width": null,
      "min_height": null,
      "min_width": null,
      "object_fit": null,
      "object_position": null,
      "order": null,
      "overflow": null,
      "overflow_x": null,
      "overflow_y": null,
      "padding": null,
      "right": null,
      "top": null,
      "visibility": null,
      "width": null
     }
    },
    "1a946f43373f4a368518c5211c4c15fc": {
     "model_module": "plotlywidget",
     "model_module_version": "^1.4.0",
     "model_name": "FigureModel",
     "state": {
      "_config": {
       "plotlyServerURL": "https://plot.ly"
      },
      "_data": [
       {
        "name": "Arrival Delays",
        "opacity": 0.75,
        "type": "histogram",
        "uid": "6067dfd5-4345-4c44-afd5-419e697116b9",
        "x": {
         "dtype": "float64",
         "shape": [
          336776
         ]
        }
       },
       {
        "name": "Departure Delays",
        "opacity": 0.75,
        "type": "histogram",
        "uid": "dd85f5d0-6eee-4987-8131-c26261e1976e",
        "x": {
         "dtype": "float64",
         "shape": [
          336776
         ]
        }
       }
      ],
      "_dom_classes": [],
      "_js2py_layoutDelta": {},
      "_js2py_pointsCallback": {},
      "_js2py_relayout": {},
      "_js2py_restyle": {},
      "_js2py_traceDeltas": {},
      "_js2py_update": {},
      "_last_layout_edit_id": 1,
      "_last_trace_edit_id": 1,
      "_layout": {
       "barmode": "overlay",
       "title": {
        "text": "NYC FlightDatabase"
       }
      },
      "_model_module": "plotlywidget",
      "_model_module_version": "^1.4.0",
      "_model_name": "FigureModel",
      "_py2js_addTraces": {},
      "_py2js_animate": {},
      "_py2js_deleteTraces": {},
      "_py2js_moveTraces": {},
      "_py2js_relayout": null,
      "_py2js_removeLayoutProps": {},
      "_py2js_removeTraceProps": {},
      "_py2js_restyle": {},
      "_py2js_update": null,
      "_view_count": 0,
      "_view_module": "plotlywidget",
      "_view_module_version": "^1.4.0",
      "_view_name": "FigureView"
     }
    },
    "20282c28ff644b5a8a6d8838905a73f9": {
     "model_module": "@jupyter-widgets/controls",
     "model_module_version": "1.5.0",
     "model_name": "SliderStyleModel",
     "state": {
      "_model_module": "@jupyter-widgets/controls",
      "_model_module_version": "1.5.0",
      "_model_name": "SliderStyleModel",
      "_view_count": null,
      "_view_module": "@jupyter-widgets/base",
      "_view_module_version": "1.2.0",
      "_view_name": "StyleView",
      "description_width": "",
      "handle_color": null
     }
    },
    "21945fa6a2d5470bb7e77e3776df08ee": {
     "model_module": "@jupyter-widgets/base",
     "model_module_version": "1.2.0",
     "model_name": "LayoutModel",
     "state": {
      "_model_module": "@jupyter-widgets/base",
      "_model_module_version": "1.2.0",
      "_model_name": "LayoutModel",
      "_view_count": null,
      "_view_module": "@jupyter-widgets/base",
      "_view_module_version": "1.2.0",
      "_view_name": "LayoutView",
      "align_content": null,
      "align_items": null,
      "align_self": null,
      "border": null,
      "bottom": null,
      "display": null,
      "flex": null,
      "flex_flow": null,
      "grid_area": null,
      "grid_auto_columns": null,
      "grid_auto_flow": null,
      "grid_auto_rows": null,
      "grid_column": null,
      "grid_gap": null,
      "grid_row": null,
      "grid_template_areas": null,
      "grid_template_columns": null,
      "grid_template_rows": null,
      "height": null,
      "justify_content": null,
      "justify_items": null,
      "left": null,
      "margin": null,
      "max_height": null,
      "max_width": null,
      "min_height": null,
      "min_width": null,
      "object_fit": null,
      "object_position": null,
      "order": null,
      "overflow": null,
      "overflow_x": null,
      "overflow_y": null,
      "padding": null,
      "right": null,
      "top": null,
      "visibility": null,
      "width": null
     }
    },
    "244ebfafcf0744abb47e02014976910c": {
     "model_module": "@jupyter-widgets/controls",
     "model_module_version": "1.5.0",
     "model_name": "FloatSliderModel",
     "state": {
      "_dom_classes": [],
      "_model_module": "@jupyter-widgets/controls",
      "_model_module_version": "1.5.0",
      "_model_name": "FloatSliderModel",
      "_view_count": null,
      "_view_module": "@jupyter-widgets/controls",
      "_view_module_version": "1.5.0",
      "_view_name": "FloatSliderView",
      "continuous_update": true,
      "description": "alpha",
      "description_tooltip": null,
      "disabled": false,
      "layout": "IPY_MODEL_d14d17bb687042ba8d50398bada57a75",
      "max": 2,
      "min": -1,
      "orientation": "horizontal",
      "readout": true,
      "readout_format": ".2f",
      "step": 0.001,
      "style": "IPY_MODEL_20282c28ff644b5a8a6d8838905a73f9",
      "value": 0.5
     }
    },
    "25cedeb37387473dbe6ee553aee2ae35": {
     "model_module": "@jupyter-widgets/controls",
     "model_module_version": "1.5.0",
     "model_name": "SliderStyleModel",
     "state": {
      "_model_module": "@jupyter-widgets/controls",
      "_model_module_version": "1.5.0",
      "_model_name": "SliderStyleModel",
      "_view_count": null,
      "_view_module": "@jupyter-widgets/base",
      "_view_module_version": "1.2.0",
      "_view_name": "StyleView",
      "description_width": "",
      "handle_color": null
     }
    },
    "278454861c5e4899b0da5c6deff7b734": {
     "model_module": "@jupyter-widgets/base",
     "model_module_version": "1.2.0",
     "model_name": "LayoutModel",
     "state": {
      "_model_module": "@jupyter-widgets/base",
      "_model_module_version": "1.2.0",
      "_model_name": "LayoutModel",
      "_view_count": null,
      "_view_module": "@jupyter-widgets/base",
      "_view_module_version": "1.2.0",
      "_view_name": "LayoutView",
      "align_content": null,
      "align_items": null,
      "align_self": null,
      "border": null,
      "bottom": null,
      "display": null,
      "flex": null,
      "flex_flow": null,
      "grid_area": null,
      "grid_auto_columns": null,
      "grid_auto_flow": null,
      "grid_auto_rows": null,
      "grid_column": null,
      "grid_gap": null,
      "grid_row": null,
      "grid_template_areas": null,
      "grid_template_columns": null,
      "grid_template_rows": null,
      "height": null,
      "justify_content": null,
      "justify_items": null,
      "left": null,
      "margin": null,
      "max_height": null,
      "max_width": null,
      "min_height": null,
      "min_width": null,
      "object_fit": null,
      "object_position": null,
      "order": null,
      "overflow": null,
      "overflow_x": null,
      "overflow_y": null,
      "padding": null,
      "right": null,
      "top": null,
      "visibility": null,
      "width": null
     }
    },
    "30006e841687470bb15d6d73380f615c": {
     "model_module": "@jupyter-widgets/controls",
     "model_module_version": "1.5.0",
     "model_name": "SliderStyleModel",
     "state": {
      "_model_module": "@jupyter-widgets/controls",
      "_model_module_version": "1.5.0",
      "_model_name": "SliderStyleModel",
      "_view_count": null,
      "_view_module": "@jupyter-widgets/base",
      "_view_module_version": "1.2.0",
      "_view_name": "StyleView",
      "description_width": "",
      "handle_color": null
     }
    },
    "30f2c3352f8f4fff8d506a2cbd760004": {
     "model_module": "@jupyter-widgets/controls",
     "model_module_version": "1.5.0",
     "model_name": "DescriptionStyleModel",
     "state": {
      "_model_module": "@jupyter-widgets/controls",
      "_model_module_version": "1.5.0",
      "_model_name": "DescriptionStyleModel",
      "_view_count": null,
      "_view_module": "@jupyter-widgets/base",
      "_view_module_version": "1.2.0",
      "_view_name": "StyleView",
      "description_width": ""
     }
    },
    "48170f29213b48a88f1708bf90a7f878": {
     "model_module": "@jupyter-widgets/controls",
     "model_module_version": "1.5.0",
     "model_name": "HBoxModel",
     "state": {
      "_dom_classes": [],
      "_model_module": "@jupyter-widgets/controls",
      "_model_module_version": "1.5.0",
      "_model_name": "HBoxModel",
      "_view_count": null,
      "_view_module": "@jupyter-widgets/controls",
      "_view_module_version": "1.5.0",
      "_view_name": "HBoxView",
      "box_style": "",
      "children": [
       "IPY_MODEL_e4ab1c2738674bf690eee39c7dc0b1ba",
       "IPY_MODEL_4a54caadf9c94982acb602d2715c797e"
      ],
      "layout": "IPY_MODEL_55d5526885564f58a9f2a74eb8a0df3b"
     }
    },
    "4a54caadf9c94982acb602d2715c797e": {
     "model_module": "@jupyter-widgets/controls",
     "model_module_version": "1.5.0",
     "model_name": "IntSliderModel",
     "state": {
      "_dom_classes": [],
      "_model_module": "@jupyter-widgets/controls",
      "_model_module_version": "1.5.0",
      "_model_name": "IntSliderModel",
      "_view_count": null,
      "_view_module": "@jupyter-widgets/controls",
      "_view_module_version": "1.5.0",
      "_view_name": "IntSliderView",
      "continuous_update": false,
      "description": "Month:",
      "description_tooltip": null,
      "disabled": false,
      "layout": "IPY_MODEL_ee5d198737e7438e8b09c6687db8da84",
      "max": 12,
      "min": 1,
      "orientation": "horizontal",
      "readout": true,
      "readout_format": "d",
      "step": 1,
      "style": "IPY_MODEL_30006e841687470bb15d6d73380f615c",
      "value": 1
     }
    },
    "4ad5f5b28afd4d6cb2ae186561d4f432": {
     "model_module": "@jupyter-widgets/controls",
     "model_module_version": "1.5.0",
     "model_name": "FloatSliderModel",
     "state": {
      "_dom_classes": [],
      "_model_module": "@jupyter-widgets/controls",
      "_model_module_version": "1.5.0",
      "_model_name": "FloatSliderModel",
      "_view_count": null,
      "_view_module": "@jupyter-widgets/controls",
      "_view_module_version": "1.5.0",
      "_view_name": "FloatSliderView",
      "continuous_update": true,
      "description": "R1",
      "description_tooltip": null,
      "disabled": false,
      "layout": "IPY_MODEL_5691e2b832a34733811d8c04000650b5",
      "max": 24,
      "min": -8,
      "orientation": "horizontal",
      "readout": true,
      "readout_format": ".2f",
      "step": 0.1,
      "style": "IPY_MODEL_05d59a1404a44a42881d73d2c7ca7a76",
      "value": 8
     }
    },
    "4bd798e347264251bab6e6e23c6eaee0": {
     "model_module": "@jupyter-widgets/base",
     "model_module_version": "1.2.0",
     "model_name": "LayoutModel",
     "state": {
      "_model_module": "@jupyter-widgets/base",
      "_model_module_version": "1.2.0",
      "_model_name": "LayoutModel",
      "_view_count": null,
      "_view_module": "@jupyter-widgets/base",
      "_view_module_version": "1.2.0",
      "_view_name": "LayoutView",
      "align_content": null,
      "align_items": null,
      "align_self": null,
      "border": null,
      "bottom": null,
      "display": null,
      "flex": null,
      "flex_flow": null,
      "grid_area": null,
      "grid_auto_columns": null,
      "grid_auto_flow": null,
      "grid_auto_rows": null,
      "grid_column": null,
      "grid_gap": null,
      "grid_row": null,
      "grid_template_areas": null,
      "grid_template_columns": null,
      "grid_template_rows": null,
      "height": null,
      "justify_content": null,
      "justify_items": null,
      "left": null,
      "margin": null,
      "max_height": null,
      "max_width": null,
      "min_height": null,
      "min_width": null,
      "object_fit": null,
      "object_position": null,
      "order": null,
      "overflow": null,
      "overflow_x": null,
      "overflow_y": null,
      "padding": null,
      "right": null,
      "top": null,
      "visibility": null,
      "width": null
     }
    },
    "4cec6e270f414b9891983ebced48f9e4": {
     "model_module": "@jupyter-widgets/controls",
     "model_module_version": "1.5.0",
     "model_name": "VBoxModel",
     "state": {
      "_dom_classes": [
       "widget-interact"
      ],
      "_model_module": "@jupyter-widgets/controls",
      "_model_module_version": "1.5.0",
      "_model_name": "VBoxModel",
      "_view_count": null,
      "_view_module": "@jupyter-widgets/controls",
      "_view_module_version": "1.5.0",
      "_view_name": "VBoxView",
      "box_style": "",
      "children": [
       "IPY_MODEL_8ddef3b64ba34cdf9904d665449586e2",
       "IPY_MODEL_4d9deb86c9fc457391ce5fd04d0ea0c0"
      ],
      "layout": "IPY_MODEL_21945fa6a2d5470bb7e77e3776df08ee"
     }
    },
    "4d9deb86c9fc457391ce5fd04d0ea0c0": {
     "model_module": "@jupyter-widgets/output",
     "model_module_version": "1.0.0",
     "model_name": "OutputModel",
     "state": {
      "_dom_classes": [],
      "_model_module": "@jupyter-widgets/output",
      "_model_module_version": "1.0.0",
      "_model_name": "OutputModel",
      "_view_count": null,
      "_view_module": "@jupyter-widgets/output",
      "_view_module_version": "1.0.0",
      "_view_name": "OutputView",
      "layout": "IPY_MODEL_77ea6426699a4e609d557c5ff9d83831",
      "msg_id": "",
      "outputs": [
       {
        "data": {
         "application/vnd.plotly.v1+json": {
          "config": {
           "linkText": "Export to plot.ly",
           "plotlyServerURL": "https://plot.ly",
           "showLink": false
          },
          "data": [
           {
            "type": "scatter",
            "x": [
             51,
             52,
             53
            ],
            "y": [
             4,
             5,
             6
            ]
           },
           {
            "type": "scatter",
            "x": [
             1,
             2,
             3
            ],
            "y": [
             4,
             5,
             6
            ]
           }
          ],
          "layout": {
           "template": {
            "data": {
             "bar": [
              {
               "error_x": {
                "color": "#2a3f5f"
               },
               "error_y": {
                "color": "#2a3f5f"
               },
               "marker": {
                "line": {
                 "color": "#E5ECF6",
                 "width": 0.5
                }
               },
               "type": "bar"
              }
             ],
             "barpolar": [
              {
               "marker": {
                "line": {
                 "color": "#E5ECF6",
                 "width": 0.5
                }
               },
               "type": "barpolar"
              }
             ],
             "carpet": [
              {
               "aaxis": {
                "endlinecolor": "#2a3f5f",
                "gridcolor": "white",
                "linecolor": "white",
                "minorgridcolor": "white",
                "startlinecolor": "#2a3f5f"
               },
               "baxis": {
                "endlinecolor": "#2a3f5f",
                "gridcolor": "white",
                "linecolor": "white",
                "minorgridcolor": "white",
                "startlinecolor": "#2a3f5f"
               },
               "type": "carpet"
              }
             ],
             "choropleth": [
              {
               "colorbar": {
                "outlinewidth": 0,
                "ticks": ""
               },
               "type": "choropleth"
              }
             ],
             "contour": [
              {
               "colorbar": {
                "outlinewidth": 0,
                "ticks": ""
               },
               "colorscale": [
                [
                 0,
                 "#0d0887"
                ],
                [
                 0.1111111111111111,
                 "#46039f"
                ],
                [
                 0.2222222222222222,
                 "#7201a8"
                ],
                [
                 0.3333333333333333,
                 "#9c179e"
                ],
                [
                 0.4444444444444444,
                 "#bd3786"
                ],
                [
                 0.5555555555555556,
                 "#d8576b"
                ],
                [
                 0.6666666666666666,
                 "#ed7953"
                ],
                [
                 0.7777777777777778,
                 "#fb9f3a"
                ],
                [
                 0.8888888888888888,
                 "#fdca26"
                ],
                [
                 1,
                 "#f0f921"
                ]
               ],
               "type": "contour"
              }
             ],
             "contourcarpet": [
              {
               "colorbar": {
                "outlinewidth": 0,
                "ticks": ""
               },
               "type": "contourcarpet"
              }
             ],
             "heatmap": [
              {
               "colorbar": {
                "outlinewidth": 0,
                "ticks": ""
               },
               "colorscale": [
                [
                 0,
                 "#0d0887"
                ],
                [
                 0.1111111111111111,
                 "#46039f"
                ],
                [
                 0.2222222222222222,
                 "#7201a8"
                ],
                [
                 0.3333333333333333,
                 "#9c179e"
                ],
                [
                 0.4444444444444444,
                 "#bd3786"
                ],
                [
                 0.5555555555555556,
                 "#d8576b"
                ],
                [
                 0.6666666666666666,
                 "#ed7953"
                ],
                [
                 0.7777777777777778,
                 "#fb9f3a"
                ],
                [
                 0.8888888888888888,
                 "#fdca26"
                ],
                [
                 1,
                 "#f0f921"
                ]
               ],
               "type": "heatmap"
              }
             ],
             "heatmapgl": [
              {
               "colorbar": {
                "outlinewidth": 0,
                "ticks": ""
               },
               "colorscale": [
                [
                 0,
                 "#0d0887"
                ],
                [
                 0.1111111111111111,
                 "#46039f"
                ],
                [
                 0.2222222222222222,
                 "#7201a8"
                ],
                [
                 0.3333333333333333,
                 "#9c179e"
                ],
                [
                 0.4444444444444444,
                 "#bd3786"
                ],
                [
                 0.5555555555555556,
                 "#d8576b"
                ],
                [
                 0.6666666666666666,
                 "#ed7953"
                ],
                [
                 0.7777777777777778,
                 "#fb9f3a"
                ],
                [
                 0.8888888888888888,
                 "#fdca26"
                ],
                [
                 1,
                 "#f0f921"
                ]
               ],
               "type": "heatmapgl"
              }
             ],
             "histogram": [
              {
               "marker": {
                "colorbar": {
                 "outlinewidth": 0,
                 "ticks": ""
                }
               },
               "type": "histogram"
              }
             ],
             "histogram2d": [
              {
               "colorbar": {
                "outlinewidth": 0,
                "ticks": ""
               },
               "colorscale": [
                [
                 0,
                 "#0d0887"
                ],
                [
                 0.1111111111111111,
                 "#46039f"
                ],
                [
                 0.2222222222222222,
                 "#7201a8"
                ],
                [
                 0.3333333333333333,
                 "#9c179e"
                ],
                [
                 0.4444444444444444,
                 "#bd3786"
                ],
                [
                 0.5555555555555556,
                 "#d8576b"
                ],
                [
                 0.6666666666666666,
                 "#ed7953"
                ],
                [
                 0.7777777777777778,
                 "#fb9f3a"
                ],
                [
                 0.8888888888888888,
                 "#fdca26"
                ],
                [
                 1,
                 "#f0f921"
                ]
               ],
               "type": "histogram2d"
              }
             ],
             "histogram2dcontour": [
              {
               "colorbar": {
                "outlinewidth": 0,
                "ticks": ""
               },
               "colorscale": [
                [
                 0,
                 "#0d0887"
                ],
                [
                 0.1111111111111111,
                 "#46039f"
                ],
                [
                 0.2222222222222222,
                 "#7201a8"
                ],
                [
                 0.3333333333333333,
                 "#9c179e"
                ],
                [
                 0.4444444444444444,
                 "#bd3786"
                ],
                [
                 0.5555555555555556,
                 "#d8576b"
                ],
                [
                 0.6666666666666666,
                 "#ed7953"
                ],
                [
                 0.7777777777777778,
                 "#fb9f3a"
                ],
                [
                 0.8888888888888888,
                 "#fdca26"
                ],
                [
                 1,
                 "#f0f921"
                ]
               ],
               "type": "histogram2dcontour"
              }
             ],
             "mesh3d": [
              {
               "colorbar": {
                "outlinewidth": 0,
                "ticks": ""
               },
               "type": "mesh3d"
              }
             ],
             "parcoords": [
              {
               "line": {
                "colorbar": {
                 "outlinewidth": 0,
                 "ticks": ""
                }
               },
               "type": "parcoords"
              }
             ],
             "pie": [
              {
               "automargin": true,
               "type": "pie"
              }
             ],
             "scatter": [
              {
               "marker": {
                "colorbar": {
                 "outlinewidth": 0,
                 "ticks": ""
                }
               },
               "type": "scatter"
              }
             ],
             "scatter3d": [
              {
               "line": {
                "colorbar": {
                 "outlinewidth": 0,
                 "ticks": ""
                }
               },
               "marker": {
                "colorbar": {
                 "outlinewidth": 0,
                 "ticks": ""
                }
               },
               "type": "scatter3d"
              }
             ],
             "scattercarpet": [
              {
               "marker": {
                "colorbar": {
                 "outlinewidth": 0,
                 "ticks": ""
                }
               },
               "type": "scattercarpet"
              }
             ],
             "scattergeo": [
              {
               "marker": {
                "colorbar": {
                 "outlinewidth": 0,
                 "ticks": ""
                }
               },
               "type": "scattergeo"
              }
             ],
             "scattergl": [
              {
               "marker": {
                "colorbar": {
                 "outlinewidth": 0,
                 "ticks": ""
                }
               },
               "type": "scattergl"
              }
             ],
             "scattermapbox": [
              {
               "marker": {
                "colorbar": {
                 "outlinewidth": 0,
                 "ticks": ""
                }
               },
               "type": "scattermapbox"
              }
             ],
             "scatterpolar": [
              {
               "marker": {
                "colorbar": {
                 "outlinewidth": 0,
                 "ticks": ""
                }
               },
               "type": "scatterpolar"
              }
             ],
             "scatterpolargl": [
              {
               "marker": {
                "colorbar": {
                 "outlinewidth": 0,
                 "ticks": ""
                }
               },
               "type": "scatterpolargl"
              }
             ],
             "scatterternary": [
              {
               "marker": {
                "colorbar": {
                 "outlinewidth": 0,
                 "ticks": ""
                }
               },
               "type": "scatterternary"
              }
             ],
             "surface": [
              {
               "colorbar": {
                "outlinewidth": 0,
                "ticks": ""
               },
               "colorscale": [
                [
                 0,
                 "#0d0887"
                ],
                [
                 0.1111111111111111,
                 "#46039f"
                ],
                [
                 0.2222222222222222,
                 "#7201a8"
                ],
                [
                 0.3333333333333333,
                 "#9c179e"
                ],
                [
                 0.4444444444444444,
                 "#bd3786"
                ],
                [
                 0.5555555555555556,
                 "#d8576b"
                ],
                [
                 0.6666666666666666,
                 "#ed7953"
                ],
                [
                 0.7777777777777778,
                 "#fb9f3a"
                ],
                [
                 0.8888888888888888,
                 "#fdca26"
                ],
                [
                 1,
                 "#f0f921"
                ]
               ],
               "type": "surface"
              }
             ],
             "table": [
              {
               "cells": {
                "fill": {
                 "color": "#EBF0F8"
                },
                "line": {
                 "color": "white"
                }
               },
               "header": {
                "fill": {
                 "color": "#C8D4E3"
                },
                "line": {
                 "color": "white"
                }
               },
               "type": "table"
              }
             ]
            },
            "layout": {
             "annotationdefaults": {
              "arrowcolor": "#2a3f5f",
              "arrowhead": 0,
              "arrowwidth": 1
             },
             "coloraxis": {
              "colorbar": {
               "outlinewidth": 0,
               "ticks": ""
              }
             },
             "colorscale": {
              "diverging": [
               [
                0,
                "#8e0152"
               ],
               [
                0.1,
                "#c51b7d"
               ],
               [
                0.2,
                "#de77ae"
               ],
               [
                0.3,
                "#f1b6da"
               ],
               [
                0.4,
                "#fde0ef"
               ],
               [
                0.5,
                "#f7f7f7"
               ],
               [
                0.6,
                "#e6f5d0"
               ],
               [
                0.7,
                "#b8e186"
               ],
               [
                0.8,
                "#7fbc41"
               ],
               [
                0.9,
                "#4d9221"
               ],
               [
                1,
                "#276419"
               ]
              ],
              "sequential": [
               [
                0,
                "#0d0887"
               ],
               [
                0.1111111111111111,
                "#46039f"
               ],
               [
                0.2222222222222222,
                "#7201a8"
               ],
               [
                0.3333333333333333,
                "#9c179e"
               ],
               [
                0.4444444444444444,
                "#bd3786"
               ],
               [
                0.5555555555555556,
                "#d8576b"
               ],
               [
                0.6666666666666666,
                "#ed7953"
               ],
               [
                0.7777777777777778,
                "#fb9f3a"
               ],
               [
                0.8888888888888888,
                "#fdca26"
               ],
               [
                1,
                "#f0f921"
               ]
              ],
              "sequentialminus": [
               [
                0,
                "#0d0887"
               ],
               [
                0.1111111111111111,
                "#46039f"
               ],
               [
                0.2222222222222222,
                "#7201a8"
               ],
               [
                0.3333333333333333,
                "#9c179e"
               ],
               [
                0.4444444444444444,
                "#bd3786"
               ],
               [
                0.5555555555555556,
                "#d8576b"
               ],
               [
                0.6666666666666666,
                "#ed7953"
               ],
               [
                0.7777777777777778,
                "#fb9f3a"
               ],
               [
                0.8888888888888888,
                "#fdca26"
               ],
               [
                1,
                "#f0f921"
               ]
              ]
             },
             "colorway": [
              "#636efa",
              "#EF553B",
              "#00cc96",
              "#ab63fa",
              "#FFA15A",
              "#19d3f3",
              "#FF6692",
              "#B6E880",
              "#FF97FF",
              "#FECB52"
             ],
             "font": {
              "color": "#2a3f5f"
             },
             "geo": {
              "bgcolor": "white",
              "lakecolor": "white",
              "landcolor": "#E5ECF6",
              "showlakes": true,
              "showland": true,
              "subunitcolor": "white"
             },
             "hoverlabel": {
              "align": "left"
             },
             "hovermode": "closest",
             "mapbox": {
              "style": "light"
             },
             "paper_bgcolor": "white",
             "plot_bgcolor": "#E5ECF6",
             "polar": {
              "angularaxis": {
               "gridcolor": "white",
               "linecolor": "white",
               "ticks": ""
              },
              "bgcolor": "#E5ECF6",
              "radialaxis": {
               "gridcolor": "white",
               "linecolor": "white",
               "ticks": ""
              }
             },
             "scene": {
              "xaxis": {
               "backgroundcolor": "#E5ECF6",
               "gridcolor": "white",
               "gridwidth": 2,
               "linecolor": "white",
               "showbackground": true,
               "ticks": "",
               "zerolinecolor": "white"
              },
              "yaxis": {
               "backgroundcolor": "#E5ECF6",
               "gridcolor": "white",
               "gridwidth": 2,
               "linecolor": "white",
               "showbackground": true,
               "ticks": "",
               "zerolinecolor": "white"
              },
              "zaxis": {
               "backgroundcolor": "#E5ECF6",
               "gridcolor": "white",
               "gridwidth": 2,
               "linecolor": "white",
               "showbackground": true,
               "ticks": "",
               "zerolinecolor": "white"
              }
             },
             "shapedefaults": {
              "line": {
               "color": "#2a3f5f"
              }
             },
             "ternary": {
              "aaxis": {
               "gridcolor": "white",
               "linecolor": "white",
               "ticks": ""
              },
              "baxis": {
               "gridcolor": "white",
               "linecolor": "white",
               "ticks": ""
              },
              "bgcolor": "#E5ECF6",
              "caxis": {
               "gridcolor": "white",
               "linecolor": "white",
               "ticks": ""
              }
             },
             "title": {
              "x": 0.05
             },
             "xaxis": {
              "automargin": true,
              "gridcolor": "white",
              "linecolor": "white",
              "ticks": "",
              "title": {
               "standoff": 15
              },
              "zerolinecolor": "white",
              "zerolinewidth": 2
             },
             "yaxis": {
              "automargin": true,
              "gridcolor": "white",
              "linecolor": "white",
              "ticks": "",
              "title": {
               "standoff": 15
              },
              "zerolinecolor": "white",
              "zerolinewidth": 2
             }
            }
           }
          }
         },
         "text/html": "<div>\n        \n        \n            <div id=\"fb6c737d-a95f-4344-b67e-62363495377c\" class=\"plotly-graph-div\" style=\"height:525px; width:100%;\"></div>\n            <script type=\"text/javascript\">\n                require([\"plotly\"], function(Plotly) {\n                    window.PLOTLYENV=window.PLOTLYENV || {};\n                    \n                if (document.getElementById(\"fb6c737d-a95f-4344-b67e-62363495377c\")) {\n                    Plotly.newPlot(\n                        'fb6c737d-a95f-4344-b67e-62363495377c',\n                        [{\"type\": \"scatter\", \"x\": [51, 52, 53], \"y\": [4, 5, 6]}, {\"type\": \"scatter\", \"x\": [1, 2, 3], \"y\": [4, 5, 6]}],\n                        {\"template\": {\"data\": {\"bar\": [{\"error_x\": {\"color\": \"#2a3f5f\"}, \"error_y\": {\"color\": \"#2a3f5f\"}, \"marker\": {\"line\": {\"color\": \"#E5ECF6\", \"width\": 0.5}}, \"type\": \"bar\"}], \"barpolar\": [{\"marker\": {\"line\": {\"color\": \"#E5ECF6\", \"width\": 0.5}}, \"type\": \"barpolar\"}], \"carpet\": [{\"aaxis\": {\"endlinecolor\": \"#2a3f5f\", \"gridcolor\": \"white\", \"linecolor\": \"white\", \"minorgridcolor\": \"white\", \"startlinecolor\": \"#2a3f5f\"}, \"baxis\": {\"endlinecolor\": \"#2a3f5f\", \"gridcolor\": \"white\", \"linecolor\": \"white\", \"minorgridcolor\": \"white\", \"startlinecolor\": \"#2a3f5f\"}, \"type\": \"carpet\"}], \"choropleth\": [{\"colorbar\": {\"outlinewidth\": 0, \"ticks\": \"\"}, \"type\": \"choropleth\"}], \"contour\": [{\"colorbar\": {\"outlinewidth\": 0, \"ticks\": \"\"}, \"colorscale\": [[0.0, \"#0d0887\"], [0.1111111111111111, \"#46039f\"], [0.2222222222222222, \"#7201a8\"], [0.3333333333333333, \"#9c179e\"], [0.4444444444444444, \"#bd3786\"], [0.5555555555555556, \"#d8576b\"], [0.6666666666666666, \"#ed7953\"], [0.7777777777777778, \"#fb9f3a\"], [0.8888888888888888, \"#fdca26\"], [1.0, \"#f0f921\"]], \"type\": \"contour\"}], \"contourcarpet\": [{\"colorbar\": {\"outlinewidth\": 0, \"ticks\": \"\"}, \"type\": \"contourcarpet\"}], \"heatmap\": [{\"colorbar\": {\"outlinewidth\": 0, \"ticks\": \"\"}, \"colorscale\": [[0.0, \"#0d0887\"], [0.1111111111111111, \"#46039f\"], [0.2222222222222222, \"#7201a8\"], [0.3333333333333333, \"#9c179e\"], [0.4444444444444444, \"#bd3786\"], [0.5555555555555556, \"#d8576b\"], [0.6666666666666666, \"#ed7953\"], [0.7777777777777778, \"#fb9f3a\"], [0.8888888888888888, \"#fdca26\"], [1.0, \"#f0f921\"]], \"type\": \"heatmap\"}], \"heatmapgl\": [{\"colorbar\": {\"outlinewidth\": 0, \"ticks\": \"\"}, \"colorscale\": [[0.0, \"#0d0887\"], [0.1111111111111111, \"#46039f\"], [0.2222222222222222, \"#7201a8\"], [0.3333333333333333, \"#9c179e\"], [0.4444444444444444, \"#bd3786\"], [0.5555555555555556, \"#d8576b\"], [0.6666666666666666, \"#ed7953\"], [0.7777777777777778, \"#fb9f3a\"], [0.8888888888888888, \"#fdca26\"], [1.0, \"#f0f921\"]], \"type\": \"heatmapgl\"}], \"histogram\": [{\"marker\": {\"colorbar\": {\"outlinewidth\": 0, \"ticks\": \"\"}}, \"type\": \"histogram\"}], \"histogram2d\": [{\"colorbar\": {\"outlinewidth\": 0, \"ticks\": \"\"}, \"colorscale\": [[0.0, \"#0d0887\"], [0.1111111111111111, \"#46039f\"], [0.2222222222222222, \"#7201a8\"], [0.3333333333333333, \"#9c179e\"], [0.4444444444444444, \"#bd3786\"], [0.5555555555555556, \"#d8576b\"], [0.6666666666666666, \"#ed7953\"], [0.7777777777777778, \"#fb9f3a\"], [0.8888888888888888, \"#fdca26\"], [1.0, \"#f0f921\"]], \"type\": \"histogram2d\"}], \"histogram2dcontour\": [{\"colorbar\": {\"outlinewidth\": 0, \"ticks\": \"\"}, \"colorscale\": [[0.0, \"#0d0887\"], [0.1111111111111111, \"#46039f\"], [0.2222222222222222, \"#7201a8\"], [0.3333333333333333, \"#9c179e\"], [0.4444444444444444, \"#bd3786\"], [0.5555555555555556, \"#d8576b\"], [0.6666666666666666, \"#ed7953\"], [0.7777777777777778, \"#fb9f3a\"], [0.8888888888888888, \"#fdca26\"], [1.0, \"#f0f921\"]], \"type\": \"histogram2dcontour\"}], \"mesh3d\": [{\"colorbar\": {\"outlinewidth\": 0, \"ticks\": \"\"}, \"type\": \"mesh3d\"}], \"parcoords\": [{\"line\": {\"colorbar\": {\"outlinewidth\": 0, \"ticks\": \"\"}}, \"type\": \"parcoords\"}], \"pie\": [{\"automargin\": true, \"type\": \"pie\"}], \"scatter\": [{\"marker\": {\"colorbar\": {\"outlinewidth\": 0, \"ticks\": \"\"}}, \"type\": \"scatter\"}], \"scatter3d\": [{\"line\": {\"colorbar\": {\"outlinewidth\": 0, \"ticks\": \"\"}}, \"marker\": {\"colorbar\": {\"outlinewidth\": 0, \"ticks\": \"\"}}, \"type\": \"scatter3d\"}], \"scattercarpet\": [{\"marker\": {\"colorbar\": {\"outlinewidth\": 0, \"ticks\": \"\"}}, \"type\": \"scattercarpet\"}], \"scattergeo\": [{\"marker\": {\"colorbar\": {\"outlinewidth\": 0, \"ticks\": \"\"}}, \"type\": \"scattergeo\"}], \"scattergl\": [{\"marker\": {\"colorbar\": {\"outlinewidth\": 0, \"ticks\": \"\"}}, \"type\": \"scattergl\"}], \"scattermapbox\": [{\"marker\": {\"colorbar\": {\"outlinewidth\": 0, \"ticks\": \"\"}}, \"type\": \"scattermapbox\"}], \"scatterpolar\": [{\"marker\": {\"colorbar\": {\"outlinewidth\": 0, \"ticks\": \"\"}}, \"type\": \"scatterpolar\"}], \"scatterpolargl\": [{\"marker\": {\"colorbar\": {\"outlinewidth\": 0, \"ticks\": \"\"}}, \"type\": \"scatterpolargl\"}], \"scatterternary\": [{\"marker\": {\"colorbar\": {\"outlinewidth\": 0, \"ticks\": \"\"}}, \"type\": \"scatterternary\"}], \"surface\": [{\"colorbar\": {\"outlinewidth\": 0, \"ticks\": \"\"}, \"colorscale\": [[0.0, \"#0d0887\"], [0.1111111111111111, \"#46039f\"], [0.2222222222222222, \"#7201a8\"], [0.3333333333333333, \"#9c179e\"], [0.4444444444444444, \"#bd3786\"], [0.5555555555555556, \"#d8576b\"], [0.6666666666666666, \"#ed7953\"], [0.7777777777777778, \"#fb9f3a\"], [0.8888888888888888, \"#fdca26\"], [1.0, \"#f0f921\"]], \"type\": \"surface\"}], \"table\": [{\"cells\": {\"fill\": {\"color\": \"#EBF0F8\"}, \"line\": {\"color\": \"white\"}}, \"header\": {\"fill\": {\"color\": \"#C8D4E3\"}, \"line\": {\"color\": \"white\"}}, \"type\": \"table\"}]}, \"layout\": {\"annotationdefaults\": {\"arrowcolor\": \"#2a3f5f\", \"arrowhead\": 0, \"arrowwidth\": 1}, \"coloraxis\": {\"colorbar\": {\"outlinewidth\": 0, \"ticks\": \"\"}}, \"colorscale\": {\"diverging\": [[0, \"#8e0152\"], [0.1, \"#c51b7d\"], [0.2, \"#de77ae\"], [0.3, \"#f1b6da\"], [0.4, \"#fde0ef\"], [0.5, \"#f7f7f7\"], [0.6, \"#e6f5d0\"], [0.7, \"#b8e186\"], [0.8, \"#7fbc41\"], [0.9, \"#4d9221\"], [1, \"#276419\"]], \"sequential\": [[0.0, \"#0d0887\"], [0.1111111111111111, \"#46039f\"], [0.2222222222222222, \"#7201a8\"], [0.3333333333333333, \"#9c179e\"], [0.4444444444444444, \"#bd3786\"], [0.5555555555555556, \"#d8576b\"], [0.6666666666666666, \"#ed7953\"], [0.7777777777777778, \"#fb9f3a\"], [0.8888888888888888, \"#fdca26\"], [1.0, \"#f0f921\"]], \"sequentialminus\": [[0.0, \"#0d0887\"], [0.1111111111111111, \"#46039f\"], [0.2222222222222222, \"#7201a8\"], [0.3333333333333333, \"#9c179e\"], [0.4444444444444444, \"#bd3786\"], [0.5555555555555556, \"#d8576b\"], [0.6666666666666666, \"#ed7953\"], [0.7777777777777778, \"#fb9f3a\"], [0.8888888888888888, \"#fdca26\"], [1.0, \"#f0f921\"]]}, \"colorway\": [\"#636efa\", \"#EF553B\", \"#00cc96\", \"#ab63fa\", \"#FFA15A\", \"#19d3f3\", \"#FF6692\", \"#B6E880\", \"#FF97FF\", \"#FECB52\"], \"font\": {\"color\": \"#2a3f5f\"}, \"geo\": {\"bgcolor\": \"white\", \"lakecolor\": \"white\", \"landcolor\": \"#E5ECF6\", \"showlakes\": true, \"showland\": true, \"subunitcolor\": \"white\"}, \"hoverlabel\": {\"align\": \"left\"}, \"hovermode\": \"closest\", \"mapbox\": {\"style\": \"light\"}, \"paper_bgcolor\": \"white\", \"plot_bgcolor\": \"#E5ECF6\", \"polar\": {\"angularaxis\": {\"gridcolor\": \"white\", \"linecolor\": \"white\", \"ticks\": \"\"}, \"bgcolor\": \"#E5ECF6\", \"radialaxis\": {\"gridcolor\": \"white\", \"linecolor\": \"white\", \"ticks\": \"\"}}, \"scene\": {\"xaxis\": {\"backgroundcolor\": \"#E5ECF6\", \"gridcolor\": \"white\", \"gridwidth\": 2, \"linecolor\": \"white\", \"showbackground\": true, \"ticks\": \"\", \"zerolinecolor\": \"white\"}, \"yaxis\": {\"backgroundcolor\": \"#E5ECF6\", \"gridcolor\": \"white\", \"gridwidth\": 2, \"linecolor\": \"white\", \"showbackground\": true, \"ticks\": \"\", \"zerolinecolor\": \"white\"}, \"zaxis\": {\"backgroundcolor\": \"#E5ECF6\", \"gridcolor\": \"white\", \"gridwidth\": 2, \"linecolor\": \"white\", \"showbackground\": true, \"ticks\": \"\", \"zerolinecolor\": \"white\"}}, \"shapedefaults\": {\"line\": {\"color\": \"#2a3f5f\"}}, \"ternary\": {\"aaxis\": {\"gridcolor\": \"white\", \"linecolor\": \"white\", \"ticks\": \"\"}, \"baxis\": {\"gridcolor\": \"white\", \"linecolor\": \"white\", \"ticks\": \"\"}, \"bgcolor\": \"#E5ECF6\", \"caxis\": {\"gridcolor\": \"white\", \"linecolor\": \"white\", \"ticks\": \"\"}}, \"title\": {\"x\": 0.05}, \"xaxis\": {\"automargin\": true, \"gridcolor\": \"white\", \"linecolor\": \"white\", \"ticks\": \"\", \"title\": {\"standoff\": 15}, \"zerolinecolor\": \"white\", \"zerolinewidth\": 2}, \"yaxis\": {\"automargin\": true, \"gridcolor\": \"white\", \"linecolor\": \"white\", \"ticks\": \"\", \"title\": {\"standoff\": 15}, \"zerolinecolor\": \"white\", \"zerolinewidth\": 2}}}},\n                        {\"responsive\": true}\n                    ).then(function(){\n                            \nvar gd = document.getElementById('fb6c737d-a95f-4344-b67e-62363495377c');\nvar x = new MutationObserver(function (mutations, observer) {{\n        var display = window.getComputedStyle(gd).display;\n        if (!display || display === 'none') {{\n            console.log([gd, 'removed!']);\n            Plotly.purge(gd);\n            observer.disconnect();\n        }}\n}});\n\n// Listen for the removal of the full notebook cells\nvar notebookContainer = gd.closest('#notebook-container');\nif (notebookContainer) {{\n    x.observe(notebookContainer, {childList: true});\n}}\n\n// Listen for the clearing of the current output cell\nvar outputEl = gd.closest('.output');\nif (outputEl) {{\n    x.observe(outputEl, {childList: true});\n}}\n\n                        })\n                };\n                });\n            </script>\n        </div>"
        },
        "metadata": {},
        "output_type": "display_data"
       }
      ]
     }
    },
    "4e63664d72fc4a90a4ff375ae53f2cd1": {
     "model_module": "@jupyter-widgets/controls",
     "model_module_version": "1.5.0",
     "model_name": "SliderStyleModel",
     "state": {
      "_model_module": "@jupyter-widgets/controls",
      "_model_module_version": "1.5.0",
      "_model_name": "SliderStyleModel",
      "_view_count": null,
      "_view_module": "@jupyter-widgets/base",
      "_view_module_version": "1.2.0",
      "_view_name": "StyleView",
      "description_width": "",
      "handle_color": null
     }
    },
    "553d0061cc3c4a4c9c94d5888ba7d897": {
     "model_module": "@jupyter-widgets/base",
     "model_module_version": "1.2.0",
     "model_name": "LayoutModel",
     "state": {
      "_model_module": "@jupyter-widgets/base",
      "_model_module_version": "1.2.0",
      "_model_name": "LayoutModel",
      "_view_count": null,
      "_view_module": "@jupyter-widgets/base",
      "_view_module_version": "1.2.0",
      "_view_name": "LayoutView",
      "align_content": null,
      "align_items": null,
      "align_self": null,
      "border": null,
      "bottom": null,
      "display": null,
      "flex": null,
      "flex_flow": null,
      "grid_area": null,
      "grid_auto_columns": null,
      "grid_auto_flow": null,
      "grid_auto_rows": null,
      "grid_column": null,
      "grid_gap": null,
      "grid_row": null,
      "grid_template_areas": null,
      "grid_template_columns": null,
      "grid_template_rows": null,
      "height": null,
      "justify_content": null,
      "justify_items": null,
      "left": null,
      "margin": null,
      "max_height": null,
      "max_width": null,
      "min_height": null,
      "min_width": null,
      "object_fit": null,
      "object_position": null,
      "order": null,
      "overflow": null,
      "overflow_x": null,
      "overflow_y": null,
      "padding": null,
      "right": null,
      "top": null,
      "visibility": null,
      "width": null
     }
    },
    "55d5526885564f58a9f2a74eb8a0df3b": {
     "model_module": "@jupyter-widgets/base",
     "model_module_version": "1.2.0",
     "model_name": "LayoutModel",
     "state": {
      "_model_module": "@jupyter-widgets/base",
      "_model_module_version": "1.2.0",
      "_model_name": "LayoutModel",
      "_view_count": null,
      "_view_module": "@jupyter-widgets/base",
      "_view_module_version": "1.2.0",
      "_view_name": "LayoutView",
      "align_content": null,
      "align_items": null,
      "align_self": null,
      "border": null,
      "bottom": null,
      "display": null,
      "flex": null,
      "flex_flow": null,
      "grid_area": null,
      "grid_auto_columns": null,
      "grid_auto_flow": null,
      "grid_auto_rows": null,
      "grid_column": null,
      "grid_gap": null,
      "grid_row": null,
      "grid_template_areas": null,
      "grid_template_columns": null,
      "grid_template_rows": null,
      "height": null,
      "justify_content": null,
      "justify_items": null,
      "left": null,
      "margin": null,
      "max_height": null,
      "max_width": null,
      "min_height": null,
      "min_width": null,
      "object_fit": null,
      "object_position": null,
      "order": null,
      "overflow": null,
      "overflow_x": null,
      "overflow_y": null,
      "padding": null,
      "right": null,
      "top": null,
      "visibility": null,
      "width": null
     }
    },
    "5691e2b832a34733811d8c04000650b5": {
     "model_module": "@jupyter-widgets/base",
     "model_module_version": "1.2.0",
     "model_name": "LayoutModel",
     "state": {
      "_model_module": "@jupyter-widgets/base",
      "_model_module_version": "1.2.0",
      "_model_name": "LayoutModel",
      "_view_count": null,
      "_view_module": "@jupyter-widgets/base",
      "_view_module_version": "1.2.0",
      "_view_name": "LayoutView",
      "align_content": null,
      "align_items": null,
      "align_self": null,
      "border": null,
      "bottom": null,
      "display": null,
      "flex": null,
      "flex_flow": null,
      "grid_area": null,
      "grid_auto_columns": null,
      "grid_auto_flow": null,
      "grid_auto_rows": null,
      "grid_column": null,
      "grid_gap": null,
      "grid_row": null,
      "grid_template_areas": null,
      "grid_template_columns": null,
      "grid_template_rows": null,
      "height": null,
      "justify_content": null,
      "justify_items": null,
      "left": null,
      "margin": null,
      "max_height": null,
      "max_width": null,
      "min_height": null,
      "min_width": null,
      "object_fit": null,
      "object_position": null,
      "order": null,
      "overflow": null,
      "overflow_x": null,
      "overflow_y": null,
      "padding": null,
      "right": null,
      "top": null,
      "visibility": null,
      "width": null
     }
    },
    "5ca2cb7cc1124110b5c62b4490679df8": {
     "model_module": "@jupyter-widgets/base",
     "model_module_version": "1.2.0",
     "model_name": "LayoutModel",
     "state": {
      "_model_module": "@jupyter-widgets/base",
      "_model_module_version": "1.2.0",
      "_model_name": "LayoutModel",
      "_view_count": null,
      "_view_module": "@jupyter-widgets/base",
      "_view_module_version": "1.2.0",
      "_view_name": "LayoutView",
      "align_content": null,
      "align_items": null,
      "align_self": null,
      "border": null,
      "bottom": null,
      "display": null,
      "flex": null,
      "flex_flow": null,
      "grid_area": null,
      "grid_auto_columns": null,
      "grid_auto_flow": null,
      "grid_auto_rows": null,
      "grid_column": null,
      "grid_gap": null,
      "grid_row": null,
      "grid_template_areas": null,
      "grid_template_columns": null,
      "grid_template_rows": null,
      "height": null,
      "justify_content": null,
      "justify_items": null,
      "left": null,
      "margin": null,
      "max_height": null,
      "max_width": null,
      "min_height": null,
      "min_width": null,
      "object_fit": null,
      "object_position": null,
      "order": null,
      "overflow": null,
      "overflow_x": null,
      "overflow_y": null,
      "padding": null,
      "right": null,
      "top": null,
      "visibility": null,
      "width": null
     }
    },
    "62f405e8114a4c0dbc57d2d01165d621": {
     "model_module": "@jupyter-widgets/controls",
     "model_module_version": "1.5.0",
     "model_name": "FloatSliderModel",
     "state": {
      "_dom_classes": [],
      "_model_module": "@jupyter-widgets/controls",
      "_model_module_version": "1.5.0",
      "_model_name": "FloatSliderModel",
      "_view_count": null,
      "_view_module": "@jupyter-widgets/controls",
      "_view_module_version": "1.5.0",
      "_view_name": "FloatSliderView",
      "continuous_update": true,
      "description": "sd0",
      "description_tooltip": null,
      "disabled": false,
      "layout": "IPY_MODEL_71af195b723e4101938af949b262d0a1",
      "max": 15,
      "min": -5,
      "orientation": "horizontal",
      "readout": true,
      "readout_format": ".2f",
      "step": 0.1,
      "style": "IPY_MODEL_8dafe4d8d7db47a5b2c841f60d886230",
      "value": 5
     }
    },
    "71af195b723e4101938af949b262d0a1": {
     "model_module": "@jupyter-widgets/base",
     "model_module_version": "1.2.0",
     "model_name": "LayoutModel",
     "state": {
      "_model_module": "@jupyter-widgets/base",
      "_model_module_version": "1.2.0",
      "_model_name": "LayoutModel",
      "_view_count": null,
      "_view_module": "@jupyter-widgets/base",
      "_view_module_version": "1.2.0",
      "_view_name": "LayoutView",
      "align_content": null,
      "align_items": null,
      "align_self": null,
      "border": null,
      "bottom": null,
      "display": null,
      "flex": null,
      "flex_flow": null,
      "grid_area": null,
      "grid_auto_columns": null,
      "grid_auto_flow": null,
      "grid_auto_rows": null,
      "grid_column": null,
      "grid_gap": null,
      "grid_row": null,
      "grid_template_areas": null,
      "grid_template_columns": null,
      "grid_template_rows": null,
      "height": null,
      "justify_content": null,
      "justify_items": null,
      "left": null,
      "margin": null,
      "max_height": null,
      "max_width": null,
      "min_height": null,
      "min_width": null,
      "object_fit": null,
      "object_position": null,
      "order": null,
      "overflow": null,
      "overflow_x": null,
      "overflow_y": null,
      "padding": null,
      "right": null,
      "top": null,
      "visibility": null,
      "width": null
     }
    },
    "77ea6426699a4e609d557c5ff9d83831": {
     "model_module": "@jupyter-widgets/base",
     "model_module_version": "1.2.0",
     "model_name": "LayoutModel",
     "state": {
      "_model_module": "@jupyter-widgets/base",
      "_model_module_version": "1.2.0",
      "_model_name": "LayoutModel",
      "_view_count": null,
      "_view_module": "@jupyter-widgets/base",
      "_view_module_version": "1.2.0",
      "_view_name": "LayoutView",
      "align_content": null,
      "align_items": null,
      "align_self": null,
      "border": null,
      "bottom": null,
      "display": null,
      "flex": null,
      "flex_flow": null,
      "grid_area": null,
      "grid_auto_columns": null,
      "grid_auto_flow": null,
      "grid_auto_rows": null,
      "grid_column": null,
      "grid_gap": null,
      "grid_row": null,
      "grid_template_areas": null,
      "grid_template_columns": null,
      "grid_template_rows": null,
      "height": null,
      "justify_content": null,
      "justify_items": null,
      "left": null,
      "margin": null,
      "max_height": null,
      "max_width": null,
      "min_height": null,
      "min_width": null,
      "object_fit": null,
      "object_position": null,
      "order": null,
      "overflow": null,
      "overflow_x": null,
      "overflow_y": null,
      "padding": null,
      "right": null,
      "top": null,
      "visibility": null,
      "width": null
     }
    },
    "790004055fd2422d97c6a76ed9bd84f5": {
     "model_module": "@jupyter-widgets/controls",
     "model_module_version": "1.5.0",
     "model_name": "DropdownModel",
     "state": {
      "_dom_classes": [],
      "_model_module": "@jupyter-widgets/controls",
      "_model_module_version": "1.5.0",
      "_model_name": "DropdownModel",
      "_options_labels": [
       "UA",
       "AA",
       "B6",
       "DL",
       "EV",
       "MQ",
       "US",
       "WN",
       "VX",
       "FL",
       "AS",
       "9E",
       "F9",
       "HA",
       "YV",
       "OO"
      ],
      "_view_count": null,
      "_view_module": "@jupyter-widgets/controls",
      "_view_module_version": "1.5.0",
      "_view_name": "DropdownView",
      "description": "Airline:   ",
      "description_tooltip": null,
      "disabled": false,
      "index": 13,
      "layout": "IPY_MODEL_a205aa613a0f40949cc39a1e12e05d35",
      "style": "IPY_MODEL_e45b47f1529549fdb06de98699464ba8"
     }
    },
    "7f02819ded964d55ac989bd9f13190ba": {
     "model_module": "@jupyter-widgets/controls",
     "model_module_version": "1.5.0",
     "model_name": "DropdownModel",
     "state": {
      "_dom_classes": [],
      "_model_module": "@jupyter-widgets/controls",
      "_model_module_version": "1.5.0",
      "_model_name": "DropdownModel",
      "_options_labels": [
       "EWR",
       "LGA",
       "JFK"
      ],
      "_view_count": null,
      "_view_module": "@jupyter-widgets/controls",
      "_view_module_version": "1.5.0",
      "_view_name": "DropdownView",
      "description": "Origin Airport:",
      "description_tooltip": null,
      "disabled": false,
      "index": 1,
      "layout": "IPY_MODEL_4bd798e347264251bab6e6e23c6eaee0",
      "style": "IPY_MODEL_30f2c3352f8f4fff8d506a2cbd760004"
     }
    },
    "8280a4d28d0941d1ae95c4719d2217ce": {
     "model_module": "@jupyter-widgets/controls",
     "model_module_version": "1.5.0",
     "model_name": "FloatSliderModel",
     "state": {
      "_dom_classes": [],
      "_model_module": "@jupyter-widgets/controls",
      "_model_module_version": "1.5.0",
      "_model_name": "FloatSliderModel",
      "_view_count": null,
      "_view_module": "@jupyter-widgets/controls",
      "_view_module_version": "1.5.0",
      "_view_name": "FloatSliderView",
      "continuous_update": true,
      "description": "sd1",
      "description_tooltip": null,
      "disabled": false,
      "layout": "IPY_MODEL_a3cb21794cd646e792325aa3eac811e3",
      "max": 30,
      "min": -10,
      "orientation": "horizontal",
      "readout": true,
      "readout_format": ".2f",
      "step": 0.1,
      "style": "IPY_MODEL_4e63664d72fc4a90a4ff375ae53f2cd1",
      "value": 10
     }
    },
    "8310dd4df1f04946b688ddfa87f6248d": {
     "model_module": "@jupyter-widgets/controls",
     "model_module_version": "1.5.0",
     "model_name": "FloatSliderModel",
     "state": {
      "_dom_classes": [],
      "_model_module": "@jupyter-widgets/controls",
      "_model_module_version": "1.5.0",
      "_model_name": "FloatSliderModel",
      "_view_count": null,
      "_view_module": "@jupyter-widgets/controls",
      "_view_module_version": "1.5.0",
      "_view_name": "FloatSliderView",
      "continuous_update": true,
      "description": "R0",
      "description_tooltip": null,
      "disabled": false,
      "layout": "IPY_MODEL_182499d24f2d45dcb6bf7104da1c3292",
      "max": 12,
      "min": -4,
      "orientation": "horizontal",
      "readout": true,
      "readout_format": ".2f",
      "step": 0.1,
      "style": "IPY_MODEL_0202cb24b473492f8530e014d2df30fd",
      "value": 4
     }
    },
    "8dafe4d8d7db47a5b2c841f60d886230": {
     "model_module": "@jupyter-widgets/controls",
     "model_module_version": "1.5.0",
     "model_name": "SliderStyleModel",
     "state": {
      "_model_module": "@jupyter-widgets/controls",
      "_model_module_version": "1.5.0",
      "_model_name": "SliderStyleModel",
      "_view_count": null,
      "_view_module": "@jupyter-widgets/base",
      "_view_module_version": "1.2.0",
      "_view_name": "StyleView",
      "description_width": "",
      "handle_color": null
     }
    },
    "8ddef3b64ba34cdf9904d665449586e2": {
     "model_module": "@jupyter-widgets/controls",
     "model_module_version": "1.5.0",
     "model_name": "IntSliderModel",
     "state": {
      "_dom_classes": [],
      "_model_module": "@jupyter-widgets/controls",
      "_model_module_version": "1.5.0",
      "_model_name": "IntSliderModel",
      "_view_count": null,
      "_view_module": "@jupyter-widgets/controls",
      "_view_module_version": "1.5.0",
      "_view_name": "IntSliderView",
      "continuous_update": true,
      "description": "w",
      "description_tooltip": null,
      "disabled": false,
      "layout": "IPY_MODEL_e825f53f6ddf45af91e7ee7354f16df4",
      "max": 100,
      "min": 0,
      "orientation": "horizontal",
      "readout": true,
      "readout_format": "d",
      "step": 1,
      "style": "IPY_MODEL_b09d4479012442229e2041fba05bd0c7",
      "value": 50
     }
    },
    "a205aa613a0f40949cc39a1e12e05d35": {
     "model_module": "@jupyter-widgets/base",
     "model_module_version": "1.2.0",
     "model_name": "LayoutModel",
     "state": {
      "_model_module": "@jupyter-widgets/base",
      "_model_module_version": "1.2.0",
      "_model_name": "LayoutModel",
      "_view_count": null,
      "_view_module": "@jupyter-widgets/base",
      "_view_module_version": "1.2.0",
      "_view_name": "LayoutView",
      "align_content": null,
      "align_items": null,
      "align_self": null,
      "border": null,
      "bottom": null,
      "display": null,
      "flex": null,
      "flex_flow": null,
      "grid_area": null,
      "grid_auto_columns": null,
      "grid_auto_flow": null,
      "grid_auto_rows": null,
      "grid_column": null,
      "grid_gap": null,
      "grid_row": null,
      "grid_template_areas": null,
      "grid_template_columns": null,
      "grid_template_rows": null,
      "height": null,
      "justify_content": null,
      "justify_items": null,
      "left": null,
      "margin": null,
      "max_height": null,
      "max_width": null,
      "min_height": null,
      "min_width": null,
      "object_fit": null,
      "object_position": null,
      "order": null,
      "overflow": null,
      "overflow_x": null,
      "overflow_y": null,
      "padding": null,
      "right": null,
      "top": null,
      "visibility": null,
      "width": null
     }
    },
    "a3cb21794cd646e792325aa3eac811e3": {
     "model_module": "@jupyter-widgets/base",
     "model_module_version": "1.2.0",
     "model_name": "LayoutModel",
     "state": {
      "_model_module": "@jupyter-widgets/base",
      "_model_module_version": "1.2.0",
      "_model_name": "LayoutModel",
      "_view_count": null,
      "_view_module": "@jupyter-widgets/base",
      "_view_module_version": "1.2.0",
      "_view_name": "LayoutView",
      "align_content": null,
      "align_items": null,
      "align_self": null,
      "border": null,
      "bottom": null,
      "display": null,
      "flex": null,
      "flex_flow": null,
      "grid_area": null,
      "grid_auto_columns": null,
      "grid_auto_flow": null,
      "grid_auto_rows": null,
      "grid_column": null,
      "grid_gap": null,
      "grid_row": null,
      "grid_template_areas": null,
      "grid_template_columns": null,
      "grid_template_rows": null,
      "height": null,
      "justify_content": null,
      "justify_items": null,
      "left": null,
      "margin": null,
      "max_height": null,
      "max_width": null,
      "min_height": null,
      "min_width": null,
      "object_fit": null,
      "object_position": null,
      "order": null,
      "overflow": null,
      "overflow_x": null,
      "overflow_y": null,
      "padding": null,
      "right": null,
      "top": null,
      "visibility": null,
      "width": null
     }
    },
    "b09d4479012442229e2041fba05bd0c7": {
     "model_module": "@jupyter-widgets/controls",
     "model_module_version": "1.5.0",
     "model_name": "SliderStyleModel",
     "state": {
      "_model_module": "@jupyter-widgets/controls",
      "_model_module_version": "1.5.0",
      "_model_name": "SliderStyleModel",
      "_view_count": null,
      "_view_module": "@jupyter-widgets/base",
      "_view_module_version": "1.2.0",
      "_view_name": "StyleView",
      "description_width": "",
      "handle_color": null
     }
    },
    "bd1c9bb6d5c44aebbb8c4574a1f55ede": {
     "model_module": "@jupyter-widgets/controls",
     "model_module_version": "1.5.0",
     "model_name": "VBoxModel",
     "state": {
      "_dom_classes": [
       "widget-interact"
      ],
      "_model_module": "@jupyter-widgets/controls",
      "_model_module_version": "1.5.0",
      "_model_name": "VBoxModel",
      "_view_count": null,
      "_view_module": "@jupyter-widgets/controls",
      "_view_module_version": "1.5.0",
      "_view_name": "VBoxView",
      "box_style": "",
      "children": [
       "IPY_MODEL_244ebfafcf0744abb47e02014976910c",
       "IPY_MODEL_8310dd4df1f04946b688ddfa87f6248d",
       "IPY_MODEL_4ad5f5b28afd4d6cb2ae186561d4f432",
       "IPY_MODEL_62f405e8114a4c0dbc57d2d01165d621",
       "IPY_MODEL_8280a4d28d0941d1ae95c4719d2217ce",
       "IPY_MODEL_efcee37bce3a42b59a72c1fcfb9b7a25",
       "IPY_MODEL_12b69f24e8fb46b8a55998ed2707ad27"
      ],
      "layout": "IPY_MODEL_278454861c5e4899b0da5c6deff7b734"
     }
    },
    "d14d17bb687042ba8d50398bada57a75": {
     "model_module": "@jupyter-widgets/base",
     "model_module_version": "1.2.0",
     "model_name": "LayoutModel",
     "state": {
      "_model_module": "@jupyter-widgets/base",
      "_model_module_version": "1.2.0",
      "_model_name": "LayoutModel",
      "_view_count": null,
      "_view_module": "@jupyter-widgets/base",
      "_view_module_version": "1.2.0",
      "_view_name": "LayoutView",
      "align_content": null,
      "align_items": null,
      "align_self": null,
      "border": null,
      "bottom": null,
      "display": null,
      "flex": null,
      "flex_flow": null,
      "grid_area": null,
      "grid_auto_columns": null,
      "grid_auto_flow": null,
      "grid_auto_rows": null,
      "grid_column": null,
      "grid_gap": null,
      "grid_row": null,
      "grid_template_areas": null,
      "grid_template_columns": null,
      "grid_template_rows": null,
      "height": null,
      "justify_content": null,
      "justify_items": null,
      "left": null,
      "margin": null,
      "max_height": null,
      "max_width": null,
      "min_height": null,
      "min_width": null,
      "object_fit": null,
      "object_position": null,
      "order": null,
      "overflow": null,
      "overflow_x": null,
      "overflow_y": null,
      "padding": null,
      "right": null,
      "top": null,
      "visibility": null,
      "width": null
     }
    },
    "e45b47f1529549fdb06de98699464ba8": {
     "model_module": "@jupyter-widgets/controls",
     "model_module_version": "1.5.0",
     "model_name": "DescriptionStyleModel",
     "state": {
      "_model_module": "@jupyter-widgets/controls",
      "_model_module_version": "1.5.0",
      "_model_name": "DescriptionStyleModel",
      "_view_count": null,
      "_view_module": "@jupyter-widgets/base",
      "_view_module_version": "1.2.0",
      "_view_name": "StyleView",
      "description_width": ""
     }
    },
    "e4ab1c2738674bf690eee39c7dc0b1ba": {
     "model_module": "@jupyter-widgets/controls",
     "model_module_version": "1.5.0",
     "model_name": "CheckboxModel",
     "state": {
      "_dom_classes": [],
      "_model_module": "@jupyter-widgets/controls",
      "_model_module_version": "1.5.0",
      "_model_name": "CheckboxModel",
      "_view_count": null,
      "_view_module": "@jupyter-widgets/controls",
      "_view_module_version": "1.5.0",
      "_view_name": "CheckboxView",
      "description": "Date: ",
      "description_tooltip": null,
      "disabled": false,
      "indent": true,
      "layout": "IPY_MODEL_5ca2cb7cc1124110b5c62b4490679df8",
      "style": "IPY_MODEL_f38c46c045ce48dca7f1f92f9a8db02f",
      "value": true
     }
    },
    "e633c1d9c97d47dfac2423fd60696a39": {
     "model_module": "@jupyter-widgets/base",
     "model_module_version": "1.2.0",
     "model_name": "LayoutModel",
     "state": {
      "_model_module": "@jupyter-widgets/base",
      "_model_module_version": "1.2.0",
      "_model_name": "LayoutModel",
      "_view_count": null,
      "_view_module": "@jupyter-widgets/base",
      "_view_module_version": "1.2.0",
      "_view_name": "LayoutView",
      "align_content": null,
      "align_items": null,
      "align_self": null,
      "border": null,
      "bottom": null,
      "display": null,
      "flex": null,
      "flex_flow": null,
      "grid_area": null,
      "grid_auto_columns": null,
      "grid_auto_flow": null,
      "grid_auto_rows": null,
      "grid_column": null,
      "grid_gap": null,
      "grid_row": null,
      "grid_template_areas": null,
      "grid_template_columns": null,
      "grid_template_rows": null,
      "height": null,
      "justify_content": null,
      "justify_items": null,
      "left": null,
      "margin": null,
      "max_height": null,
      "max_width": null,
      "min_height": null,
      "min_width": null,
      "object_fit": null,
      "object_position": null,
      "order": null,
      "overflow": null,
      "overflow_x": null,
      "overflow_y": null,
      "padding": null,
      "right": null,
      "top": null,
      "visibility": null,
      "width": null
     }
    },
    "e825f53f6ddf45af91e7ee7354f16df4": {
     "model_module": "@jupyter-widgets/base",
     "model_module_version": "1.2.0",
     "model_name": "LayoutModel",
     "state": {
      "_model_module": "@jupyter-widgets/base",
      "_model_module_version": "1.2.0",
      "_model_name": "LayoutModel",
      "_view_count": null,
      "_view_module": "@jupyter-widgets/base",
      "_view_module_version": "1.2.0",
      "_view_name": "LayoutView",
      "align_content": null,
      "align_items": null,
      "align_self": null,
      "border": null,
      "bottom": null,
      "display": null,
      "flex": null,
      "flex_flow": null,
      "grid_area": null,
      "grid_auto_columns": null,
      "grid_auto_flow": null,
      "grid_auto_rows": null,
      "grid_column": null,
      "grid_gap": null,
      "grid_row": null,
      "grid_template_areas": null,
      "grid_template_columns": null,
      "grid_template_rows": null,
      "height": null,
      "justify_content": null,
      "justify_items": null,
      "left": null,
      "margin": null,
      "max_height": null,
      "max_width": null,
      "min_height": null,
      "min_width": null,
      "object_fit": null,
      "object_position": null,
      "order": null,
      "overflow": null,
      "overflow_x": null,
      "overflow_y": null,
      "padding": null,
      "right": null,
      "top": null,
      "visibility": null,
      "width": null
     }
    },
    "edb83e58bd454964ae4004f465c28110": {
     "model_module": "@jupyter-widgets/base",
     "model_module_version": "1.2.0",
     "model_name": "LayoutModel",
     "state": {
      "_model_module": "@jupyter-widgets/base",
      "_model_module_version": "1.2.0",
      "_model_name": "LayoutModel",
      "_view_count": null,
      "_view_module": "@jupyter-widgets/base",
      "_view_module_version": "1.2.0",
      "_view_name": "LayoutView",
      "align_content": null,
      "align_items": null,
      "align_self": null,
      "border": null,
      "bottom": null,
      "display": null,
      "flex": null,
      "flex_flow": null,
      "grid_area": null,
      "grid_auto_columns": null,
      "grid_auto_flow": null,
      "grid_auto_rows": null,
      "grid_column": null,
      "grid_gap": null,
      "grid_row": null,
      "grid_template_areas": null,
      "grid_template_columns": null,
      "grid_template_rows": null,
      "height": null,
      "justify_content": null,
      "justify_items": null,
      "left": null,
      "margin": null,
      "max_height": null,
      "max_width": null,
      "min_height": null,
      "min_width": null,
      "object_fit": null,
      "object_position": null,
      "order": null,
      "overflow": null,
      "overflow_x": null,
      "overflow_y": null,
      "padding": null,
      "right": null,
      "top": null,
      "visibility": null,
      "width": null
     }
    },
    "ee5d198737e7438e8b09c6687db8da84": {
     "model_module": "@jupyter-widgets/base",
     "model_module_version": "1.2.0",
     "model_name": "LayoutModel",
     "state": {
      "_model_module": "@jupyter-widgets/base",
      "_model_module_version": "1.2.0",
      "_model_name": "LayoutModel",
      "_view_count": null,
      "_view_module": "@jupyter-widgets/base",
      "_view_module_version": "1.2.0",
      "_view_name": "LayoutView",
      "align_content": null,
      "align_items": null,
      "align_self": null,
      "border": null,
      "bottom": null,
      "display": null,
      "flex": null,
      "flex_flow": null,
      "grid_area": null,
      "grid_auto_columns": null,
      "grid_auto_flow": null,
      "grid_auto_rows": null,
      "grid_column": null,
      "grid_gap": null,
      "grid_row": null,
      "grid_template_areas": null,
      "grid_template_columns": null,
      "grid_template_rows": null,
      "height": null,
      "justify_content": null,
      "justify_items": null,
      "left": null,
      "margin": null,
      "max_height": null,
      "max_width": null,
      "min_height": null,
      "min_width": null,
      "object_fit": null,
      "object_position": null,
      "order": null,
      "overflow": null,
      "overflow_x": null,
      "overflow_y": null,
      "padding": null,
      "right": null,
      "top": null,
      "visibility": null,
      "width": null
     }
    },
    "efcee37bce3a42b59a72c1fcfb9b7a25": {
     "model_module": "@jupyter-widgets/controls",
     "model_module_version": "1.5.0",
     "model_name": "FloatSliderModel",
     "state": {
      "_dom_classes": [],
      "_model_module": "@jupyter-widgets/controls",
      "_model_module_version": "1.5.0",
      "_model_name": "FloatSliderModel",
      "_view_count": null,
      "_view_module": "@jupyter-widgets/controls",
      "_view_module_version": "1.5.0",
      "_view_name": "FloatSliderView",
      "continuous_update": true,
      "description": "corr",
      "description_tooltip": null,
      "disabled": false,
      "layout": "IPY_MODEL_f904dcc1d4b2485d9fe81bf3ada0cb73",
      "max": 1,
      "min": -1,
      "orientation": "horizontal",
      "readout": true,
      "readout_format": ".2f",
      "step": 0.01,
      "style": "IPY_MODEL_25cedeb37387473dbe6ee553aee2ae35",
      "value": 0
     }
    },
    "f38c46c045ce48dca7f1f92f9a8db02f": {
     "model_module": "@jupyter-widgets/controls",
     "model_module_version": "1.5.0",
     "model_name": "DescriptionStyleModel",
     "state": {
      "_model_module": "@jupyter-widgets/controls",
      "_model_module_version": "1.5.0",
      "_model_name": "DescriptionStyleModel",
      "_view_count": null,
      "_view_module": "@jupyter-widgets/base",
      "_view_module_version": "1.2.0",
      "_view_name": "StyleView",
      "description_width": ""
     }
    },
    "f904dcc1d4b2485d9fe81bf3ada0cb73": {
     "model_module": "@jupyter-widgets/base",
     "model_module_version": "1.2.0",
     "model_name": "LayoutModel",
     "state": {
      "_model_module": "@jupyter-widgets/base",
      "_model_module_version": "1.2.0",
      "_model_name": "LayoutModel",
      "_view_count": null,
      "_view_module": "@jupyter-widgets/base",
      "_view_module_version": "1.2.0",
      "_view_name": "LayoutView",
      "align_content": null,
      "align_items": null,
      "align_self": null,
      "border": null,
      "bottom": null,
      "display": null,
      "flex": null,
      "flex_flow": null,
      "grid_area": null,
      "grid_auto_columns": null,
      "grid_auto_flow": null,
      "grid_auto_rows": null,
      "grid_column": null,
      "grid_gap": null,
      "grid_row": null,
      "grid_template_areas": null,
      "grid_template_columns": null,
      "grid_template_rows": null,
      "height": null,
      "justify_content": null,
      "justify_items": null,
      "left": null,
      "margin": null,
      "max_height": null,
      "max_width": null,
      "min_height": null,
      "min_width": null,
      "object_fit": null,
      "object_position": null,
      "order": null,
      "overflow": null,
      "overflow_x": null,
      "overflow_y": null,
      "padding": null,
      "right": null,
      "top": null,
      "visibility": null,
      "width": null
     }
    },
    "fc4cc6baed2d4734b1b8b89295051722": {
     "model_module": "@jupyter-widgets/controls",
     "model_module_version": "1.5.0",
     "model_name": "VBoxModel",
     "state": {
      "_dom_classes": [],
      "_model_module": "@jupyter-widgets/controls",
      "_model_module_version": "1.5.0",
      "_model_name": "VBoxModel",
      "_view_count": null,
      "_view_module": "@jupyter-widgets/controls",
      "_view_module_version": "1.5.0",
      "_view_name": "VBoxView",
      "box_style": "",
      "children": [
       "IPY_MODEL_48170f29213b48a88f1708bf90a7f878",
       "IPY_MODEL_15cb1f3fa2314379a5f604b213f58461",
       "IPY_MODEL_1a946f43373f4a368518c5211c4c15fc"
      ],
      "layout": "IPY_MODEL_edb83e58bd454964ae4004f465c28110"
     }
    }
   }
  }
 },
 "nbformat": 4,
 "nbformat_minor": 4
}
