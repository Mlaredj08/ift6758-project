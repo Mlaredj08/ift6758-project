{
 "cells": [
  {
   "cell_type": "markdown",
   "id": "0baf0b25-aa6a-465d-b56b-563513534534",
   "metadata": {},
   "source": [
    "<center><h1> IFT-6758  Data Science  </h1></center>\n",
    "<center><h2> Fall - 2021 </h2></center> \n",
    "<center><h3> Team : Kevin Traoré, Etienne Delisle, Paul Villedieu, Mohammed Laredj </h3></center> \n",
    "<center><h3> Question 6 </h3></center> \n"
   ]
  },
  {
   "cell_type": "code",
   "execution_count": 1,
   "id": "997ffe49-d66b-4646-9c66-31905e3b8e09",
   "metadata": {},
   "outputs": [],
   "source": [
    "jsonDataFolder = '../jsondata1'\n",
    "datasetsFolder = '../datasets'\n"
   ]
  },
  {
   "cell_type": "code",
   "execution_count": 2,
   "id": "f1ef3198-683f-44c8-a7be-d19e96e48ed3",
   "metadata": {},
   "outputs": [
    {
     "ename": "ModuleNotFoundError",
     "evalue": "No module named 'ift6758'",
     "output_type": "error",
     "traceback": [
      "\u001b[1;31m---------------------------------------------------------------------------\u001b[0m",
      "\u001b[1;31mModuleNotFoundError\u001b[0m                       Traceback (most recent call last)",
      "\u001b[1;32m~\\AppData\\Local\\Temp/ipykernel_23752/1986396203.py\u001b[0m in \u001b[0;36m<module>\u001b[1;34m\u001b[0m\n\u001b[0;32m      6\u001b[0m \u001b[1;32mimport\u001b[0m \u001b[0mos\u001b[0m\u001b[1;33m\u001b[0m\u001b[1;33m\u001b[0m\u001b[0m\n\u001b[0;32m      7\u001b[0m \u001b[1;32mimport\u001b[0m \u001b[0mjson\u001b[0m\u001b[1;33m\u001b[0m\u001b[1;33m\u001b[0m\u001b[0m\n\u001b[1;32m----> 8\u001b[1;33m \u001b[1;32mfrom\u001b[0m \u001b[0mift6758\u001b[0m\u001b[1;33m.\u001b[0m\u001b[0mdata\u001b[0m\u001b[1;33m.\u001b[0m\u001b[0mquestion_2\u001b[0m \u001b[1;32mimport\u001b[0m \u001b[0mnhl_data\u001b[0m\u001b[1;33m\u001b[0m\u001b[1;33m\u001b[0m\u001b[0m\n\u001b[0m\u001b[0;32m      9\u001b[0m \u001b[1;32mfrom\u001b[0m \u001b[0mift6758\u001b[0m\u001b[1;33m.\u001b[0m\u001b[0mdata\u001b[0m\u001b[1;33m.\u001b[0m\u001b[0mquestion_6\u001b[0m \u001b[1;32mimport\u001b[0m \u001b[0mget_league_all_shoots_coordinates\u001b[0m\u001b[1;33m,\u001b[0m\u001b[0mget_shoots_coordinates\u001b[0m\u001b[1;33m,\u001b[0m\u001b[0mplot_shoots_map\u001b[0m\u001b[1;33m\u001b[0m\u001b[1;33m\u001b[0m\u001b[0m\n\u001b[0;32m     10\u001b[0m \u001b[1;32mfrom\u001b[0m \u001b[0mift6758\u001b[0m\u001b[1;33m.\u001b[0m\u001b[0mdata\u001b[0m \u001b[1;32mimport\u001b[0m \u001b[0mget_season_type_label\u001b[0m\u001b[1;33m,\u001b[0m \u001b[0mget_season_years_label\u001b[0m\u001b[1;33m,\u001b[0m\u001b[0;31m\\\u001b[0m\u001b[1;33m\u001b[0m\u001b[1;33m\u001b[0m\u001b[0m\n",
      "\u001b[1;31mModuleNotFoundError\u001b[0m: No module named 'ift6758'"
     ]
    }
   ],
   "source": [
    "import pandas as pd\n",
    "import ipywidgets as widgets\n",
    "from IPython.display import display\n",
    "from typing import List\n",
    "import time\n",
    "import os\n",
    "import json\n",
    "from ift6758.data.question_2 import nhl_data\n",
    "from ift6758.data.question_6 import get_league_all_shoots_coordinates,get_shoots_coordinates,plot_shoots_map\n",
    "from ift6758.data import get_season_type_label, get_season_years_label,\\\n",
    "Event, Game, Team, EventBuilder, GameBuilder, TeamBuilder, create_folder_if_not_exists\n",
    "from ift6758.data.utils import seasonTypes, seasonCodes\n",
    "from ift6758.data import goalsCoordinates, GameBuilder, get_shooter_or_scorer_and_goalie,\\\n",
    "        none_to_na, create_folder_if_not_exists,TeamBuilder\n",
    "from ipywidgets import interact, interactive, fixed, interact_manual"
   ]
  },
  {
   "cell_type": "code",
   "execution_count": 7,
   "id": "639b53d2-80b3-4404-9fa3-3e2d33da967d",
   "metadata": {},
   "outputs": [
    {
     "ename": "NameError",
     "evalue": "name 'create_folder_if_not_exists' is not defined",
     "output_type": "error",
     "traceback": [
      "\u001b[1;31m---------------------------------------------------------------------------\u001b[0m",
      "\u001b[1;31mNameError\u001b[0m                                 Traceback (most recent call last)",
      "\u001b[1;32m~\\AppData\\Local\\Temp/ipykernel_12364/1841729143.py\u001b[0m in \u001b[0;36m<module>\u001b[1;34m\u001b[0m\n\u001b[1;32m----> 1\u001b[1;33m \u001b[0mcreate_folder_if_not_exists\u001b[0m\u001b[1;33m(\u001b[0m\u001b[0mjsonDataFolder\u001b[0m\u001b[1;33m)\u001b[0m\u001b[1;33m\u001b[0m\u001b[1;33m\u001b[0m\u001b[0m\n\u001b[0m\u001b[0;32m      2\u001b[0m \u001b[0mcreate_folder_if_not_exists\u001b[0m\u001b[1;33m(\u001b[0m\u001b[0mdatasetsFolder\u001b[0m\u001b[1;33m)\u001b[0m\u001b[1;33m\u001b[0m\u001b[1;33m\u001b[0m\u001b[0m\n",
      "\u001b[1;31mNameError\u001b[0m: name 'create_folder_if_not_exists' is not defined"
     ]
    }
   ],
   "source": [
    "create_folder_if_not_exists(jsonDataFolder)\n",
    "create_folder_if_not_exists(datasetsFolder)\n"
   ]
  },
  {
   "cell_type": "code",
   "execution_count": 10,
   "id": "c4e63893-8dfe-4fa8-a046-706f032fff83",
   "metadata": {},
   "outputs": [],
   "source": [
    "def load_game(gameNum):\n",
    "    import json\n",
    "    \n",
    "    with open(f'{jsonDataFolder}/{gameNum}.json', 'r') as file:\n",
    "        game_data = file.read()\n",
    "\n",
    "    return GameBuilder().build(json.loads(game_data))"
   ]
  },
  {
   "cell_type": "code",
   "execution_count": 11,
   "id": "ab1d0f45-a9f6-43b9-8fcc-a285828d425f",
   "metadata": {},
   "outputs": [],
   "source": [
    "from datetime import datetime\n",
    "firstRecordedSeason = 2016\n",
    "nextSeasonYear = datetime.now().year\n",
    "nbGameFrom2017 = 1271\n",
    "nbGameBefore2017 = 1230\n",
    "\n",
    "def get_seasons_list():\n",
    "    result = []\n",
    "    seasonYear = firstRecordedSeason\n",
    "    while seasonYear < nextSeasonYear:\n",
    "        result.append(str(seasonYear) + '-' + str(seasonYear + 1))\n",
    "        seasonYear += 1\n",
    "    \n",
    "    return result\n",
    "\n",
    "def createTeamslist():\n",
    "    ignoredGamesId = []\n",
    "    teamslist=[]\n",
    "    for gameId in gamesList:\n",
    "        try:\n",
    "            currentGame = load_game(gameId)\n",
    "            team =currentGame.homeTeam.name\n",
    "            if not(team in teamslist):\n",
    "                teamslist.append(team)\n",
    "        except FileNotFoundError:\n",
    "            ignoredGamesId.append(gameId)\n",
    "    return teamslist\n",
    "\n",
    "def f(x):\n",
    "    return x"
   ]
  },
  {
   "cell_type": "code",
   "execution_count": 12,
   "id": "5b7dbcee-5ded-49ff-a26e-784d120cef1b",
   "metadata": {},
   "outputs": [
    {
     "name": "stderr",
     "output_type": "stream",
     "text": [
      "100%|█████████████████████████████████████████████████████████████████████████████| 1335/1335 [00:05<00:00, 259.50it/s]\n"
     ]
    },
    {
     "data": {
      "application/vnd.jupyter.widget-view+json": {
       "model_id": "c8036c28739444308fac35f790957c12",
       "version_major": 2,
       "version_minor": 0
      },
      "text/plain": [
       "interactive(children=(Dropdown(description='season', options=('2016-2017', '2017-2018', '2018-2019', '2019-202…"
      ]
     },
     "metadata": {},
     "output_type": "display_data"
    }
   ],
   "source": [
    "seasonsList = get_seasons_list()\n",
    "\n",
    "\n",
    "gamesList = nhl_data([2016], ['02', '03'], jsonDataFolder, light=True)\n",
    "    \n",
    "teamslist = createTeamslist()\n",
    "\n",
    "@interact(season = seasonsList,team = teamslist)\n",
    "def print_team(season , team):\n",
    "    eventsDataFrame=pd.read_csv('../datasets/'+season+'_season_shots_and_goals_events.csv')\n",
    "    teamsDataFrame=pd.read_csv('../datasets/Teams.csv')\n",
    "    ind =teamsDataFrame[teamsDataFrame['Teams'] == team].index[0]\n",
    "    abr=teamsDataFrame._get_value(ind, 'Abrev').strip()\n",
    "    shootsDataFrame = eventsDataFrame[eventsDataFrame['Shooter/Scorer Team'] == abr] \n",
    "    get_league_all_shoots_coordinates(eventsDataFrame)\n",
    "    get_shoots_coordinates(shootsDataFrame)\n",
    "    plot_shoots_map(eventsDataFrame,shootsDataFrame,team,season)\n",
    "     \n",
    " \n",
    "\n",
    "\n",
    "\n"
   ]
  },
  {
   "cell_type": "code",
   "execution_count": null,
   "id": "90cc4179-91ca-4bb9-9fbf-3aac79ce66a4",
   "metadata": {},
   "outputs": [],
   "source": []
  },
  {
   "cell_type": "code",
   "execution_count": null,
   "id": "862b3115-a2df-4c15-87e6-3369674333f6",
   "metadata": {},
   "outputs": [],
   "source": []
  },
  {
   "cell_type": "code",
   "execution_count": null,
   "id": "09fc8660-9988-405d-be77-d16a056ecb13",
   "metadata": {},
   "outputs": [],
   "source": []
  },
  {
   "cell_type": "code",
   "execution_count": null,
   "id": "5175f07c-ba37-4d99-8d5a-6ddb96f44a70",
   "metadata": {},
   "outputs": [],
   "source": [
    "\n"
   ]
  },
  {
   "cell_type": "code",
   "execution_count": null,
   "id": "45f3b184-152a-417e-8a69-a4d0fe76a990",
   "metadata": {},
   "outputs": [],
   "source": []
  },
  {
   "cell_type": "code",
   "execution_count": null,
   "id": "a2700ce0-0497-4ae5-9bad-cbe06d5ff72f",
   "metadata": {},
   "outputs": [],
   "source": []
  },
  {
   "cell_type": "code",
   "execution_count": null,
   "id": "e2ab10fb-5f7c-4821-b88b-40471dd99224",
   "metadata": {},
   "outputs": [],
   "source": []
  }
 ],
 "metadata": {
  "kernelspec": {
   "display_name": "ift6758-conda-env",
   "language": "python",
   "name": "ift6758-conda-env"
  },
  "language_info": {
   "codemirror_mode": {
    "name": "ipython",
    "version": 3
   },
   "file_extension": ".py",
   "mimetype": "text/x-python",
   "name": "python",
   "nbconvert_exporter": "python",
   "pygments_lexer": "ipython3",
   "version": "3.9.7"
  }
 },
 "nbformat": 4,
 "nbformat_minor": 5
}
